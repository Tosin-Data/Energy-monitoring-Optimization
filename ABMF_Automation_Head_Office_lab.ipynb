{
 "cells": [
  {
   "cell_type": "markdown",
   "id": "97a25111-c50e-4d1a-896d-243793b6f59a",
   "metadata": {
    "tags": []
   },
   "source": [
    "# ABMF Head Office Automation"
   ]
  },
  {
   "cell_type": "markdown",
   "id": "b7b5ce86-5173-47f8-90ca-d468f39b874b",
   "metadata": {
    "tags": []
   },
   "source": [
    "## Relevant Libraries and variables"
   ]
  },
  {
   "cell_type": "code",
   "execution_count": 1,
   "id": "df07793f-e5fb-4355-9bc6-fb324be2418b",
   "metadata": {
    "tags": []
   },
   "outputs": [],
   "source": [
    "from selenium import webdriver\n",
    "import chromedriver_autoinstaller\n",
    "from selenium.webdriver.common.by import By\n",
    "from selenium.common.exceptions import WebDriverException\n",
    "import time\n",
    "import os\n",
    "import glob\n",
    "import shutil\n",
    "from datetime import datetime, timedelta\n",
    "import pandas as pd\n",
    "from selenium.common.exceptions import NoSuchElementException, ElementNotInteractableException, StaleElementReferenceException\n",
    "import re\n",
    "# from selenium.webdriver.common.by import By\n",
    "from selenium.webdriver.support.ui import WebDriverWait\n",
    "from selenium.webdriver.support import expected_conditions as EC\n",
    "from selenium.common.exceptions import TimeoutException\n",
    "import sqlite3\n",
    "import statistics\n",
    "import calendar\n",
    "from data_preprocessing_HO import get_csv_files_HO\n",
    "# from data_preprocessing import clean_data, format_date_list"
   ]
  },
  {
   "cell_type": "markdown",
   "id": "46763700-f370-4235-be69-142ec36ce979",
   "metadata": {
    "tags": []
   },
   "source": [
    "## Relevant Variables"
   ]
  },
  {
   "cell_type": "code",
   "execution_count": 2,
   "id": "5c16a6c1-0804-4e47-a7f7-5601743bee4f",
   "metadata": {
    "tags": []
   },
   "outputs": [],
   "source": [
    "# Folder where files are downloaded into\n",
    "base_folder = \"C:/Users/Rhoda/Desktop/abmf_data\"\n",
    "\n",
    "# The string used to identify relevant files\n",
    "prefix = \"abmfho\"\n",
    "\n",
    "# Value of 'site' column in dataset\n",
    "site_value=\"Head office\"\n",
    "\n",
    "# Value of folder name on local machine\n",
    "site_folder_name = \"Head_office\"\n",
    "\n",
    "holiday_dates = [\n",
    "    \"2023-01-01\",\n",
    "    \"2023-05-01\",\n",
    "    \"2023-10-01\",\n",
    "    \"2023-12-25\"\n",
    "]\n",
    "\n",
    "start_time_value=\"08:00:00\"\n",
    "end_time_value=\"17:00:00\"\n",
    "minus_days_value=[\"Saturday\", \"Sunday\"]\n",
    "# holiday_value = format_date_list(holiday_dates)\n",
    "# past_month_value = (datetime.now() - timedelta(days=30)).strftime('%m')"
   ]
  },
  {
   "cell_type": "markdown",
   "id": "a4237e93-3c83-40e5-ae67-e2b72c151cbd",
   "metadata": {
    "tags": []
   },
   "source": [
    "## Define Website"
   ]
  },
  {
   "cell_type": "code",
   "execution_count": 3,
   "id": "091471c0-8dc6-4961-b632-d0b25c18aedb",
   "metadata": {
    "tags": []
   },
   "outputs": [],
   "source": [
    "# Website to automate\n",
    "website = \"https://129.18.155.1/\"\n",
    "\n",
    "# chromedriver location path\n",
    "# path = \"C:/Users/Admin/Documents/chromedriver_win32/chromedriver.exe\""
   ]
  },
  {
   "cell_type": "markdown",
   "id": "6a2a3475-e2ec-420e-b811-9acd36bece80",
   "metadata": {
    "tags": []
   },
   "source": [
    "## Set the Folder you want all the file to be downloaded into before sorting\n"
   ]
  },
  {
   "cell_type": "code",
   "execution_count": 4,
   "id": "40a509ec-6173-478c-8373-a35ae6c01668",
   "metadata": {
    "tags": []
   },
   "outputs": [],
   "source": [
    "# Set the temporary directory where you want to save the downloaded files\n",
    "# download_directory = \"C:/Users/Admin/Downloads/IoT_data\"\n",
    "\n",
    "# # Change the download directory\n",
    "# options = webdriver.ChromeOptions()\n",
    "\n",
    "# prefs = {\"download.default_directory\": download_directory}\n",
    "# options.add_experimental_option(\"prefs\", prefs)"
   ]
  },
  {
   "cell_type": "markdown",
   "id": "2a95c12e-be30-448b-9007-135ae1e18293",
   "metadata": {
    "tags": []
   },
   "source": [
    "## Define Chrome Driver AutoInstaller"
   ]
  },
  {
   "cell_type": "code",
   "execution_count": 5,
   "id": "12710d2d-daff-4700-8bb8-3fc19a7e01d4",
   "metadata": {
    "tags": []
   },
   "outputs": [],
   "source": [
    "# Automatically install the appropriate version of ChromeDriver\n",
    "chromedriver_autoinstaller.install()\n",
    "\n",
    "# Initialize the ChromeDriver without specifying the executable_path\n",
    "# driver = webdriver.Chrome(options=options)\n",
    "driver = webdriver.Chrome()"
   ]
  },
  {
   "cell_type": "code",
   "execution_count": 6,
   "id": "d7c636a2-4923-46b9-8013-ad2c6179f9e4",
   "metadata": {
    "tags": []
   },
   "outputs": [],
   "source": [
    "# Instruct web driver to navigate to the set website\n",
    "# driver.get(website)"
   ]
  },
  {
   "cell_type": "code",
   "execution_count": 7,
   "id": "2ec29dee-ffc0-4d23-83bd-902ff3992a34",
   "metadata": {
    "tags": []
   },
   "outputs": [
    {
     "name": "stdout",
     "output_type": "stream",
     "text": [
      "Load Website Retry attempt 1\n",
      "Load Website Retry attempt 2\n",
      "Load Website Retry attempt 3\n",
      "Load Website Retry attempt 4\n"
     ]
    }
   ],
   "source": [
    "# Maximum number of retry attempts\n",
    "max_retries = 5\n",
    "retry_count = 0\n",
    "\n",
    "while retry_count < max_retries:\n",
    "    try:\n",
    "        driver.get(website)\n",
    "        # If the page loads successfully, break out of the loop\n",
    "        break\n",
    "    except Exception as e:\n",
    "        print(f\"Load Website Retry attempt {retry_count + 1}\")\n",
    "        retry_count += 1\n",
    "        \n",
    "        # Print the exception, if it reaches maximum retry attempt\n",
    "        if retry_count == max_retries:\n",
    "            print(f\"Error: {e}\")\n",
    "            \n",
    "        # Wait for a few seconds before the next retry\n",
    "        time.sleep(5)\n",
    "\n",
    "if retry_count == max_retries:\n",
    "    print(f\"Maximum retries reached. Unable to load {website}\")\n",
    "    driver.quit()"
   ]
  },
  {
   "cell_type": "code",
   "execution_count": null,
   "id": "b6291ad3-59bc-4381-abb5-6c51f6ccae75",
   "metadata": {
    "tags": []
   },
   "outputs": [],
   "source": []
  },
  {
   "cell_type": "markdown",
   "id": "ba1bda3d-792f-41a8-becf-54bd3dc29cf1",
   "metadata": {
    "tags": []
   },
   "source": [
    "## Browser Automation\n",
    "\n",
    "Download the data from the website."
   ]
  },
  {
   "cell_type": "code",
   "execution_count": 16,
   "id": "9c342731-0d8b-40c7-8546-c3cb1008f285",
   "metadata": {
    "tags": []
   },
   "outputs": [
    {
     "name": "stderr",
     "output_type": "stream",
     "text": [
      "WARNING:urllib3.connectionpool:Retrying (Retry(total=2, connect=None, read=None, redirect=None, status=None)) after connection broken by 'NewConnectionError('<urllib3.connection.HTTPConnection object at 0x000001DBF54BFA60>: Failed to establish a new connection: [WinError 10061] No connection could be made because the target machine actively refused it')': /session/2792b8e332dd4e5b525ff5a904131e4f/element\n",
      "WARNING:urllib3.connectionpool:Retrying (Retry(total=1, connect=None, read=None, redirect=None, status=None)) after connection broken by 'NewConnectionError('<urllib3.connection.HTTPConnection object at 0x000001DBF54BDE70>: Failed to establish a new connection: [WinError 10061] No connection could be made because the target machine actively refused it')': /session/2792b8e332dd4e5b525ff5a904131e4f/element\n",
      "WARNING:urllib3.connectionpool:Retrying (Retry(total=0, connect=None, read=None, redirect=None, status=None)) after connection broken by 'NewConnectionError('<urllib3.connection.HTTPConnection object at 0x000001DBF54BE980>: Failed to establish a new connection: [WinError 10061] No connection could be made because the target machine actively refused it')': /session/2792b8e332dd4e5b525ff5a904131e4f/element\n"
     ]
    },
    {
     "ename": "MaxRetryError",
     "evalue": "HTTPConnectionPool(host='localhost', port=62228): Max retries exceeded with url: /session/2792b8e332dd4e5b525ff5a904131e4f/element (Caused by NewConnectionError('<urllib3.connection.HTTPConnection object at 0x000001DBF54BEAA0>: Failed to establish a new connection: [WinError 10061] No connection could be made because the target machine actively refused it'))",
     "output_type": "error",
     "traceback": [
      "\u001b[1;31m---------------------------------------------------------------------------\u001b[0m",
      "\u001b[1;31mConnectionRefusedError\u001b[0m                    Traceback (most recent call last)",
      "File \u001b[1;32m~\\anaconda3\\lib\\site-packages\\urllib3\\connection.py:174\u001b[0m, in \u001b[0;36mHTTPConnection._new_conn\u001b[1;34m(self)\u001b[0m\n\u001b[0;32m    173\u001b[0m \u001b[38;5;28;01mtry\u001b[39;00m:\n\u001b[1;32m--> 174\u001b[0m     conn \u001b[38;5;241m=\u001b[39m connection\u001b[38;5;241m.\u001b[39mcreate_connection(\n\u001b[0;32m    175\u001b[0m         (\u001b[38;5;28mself\u001b[39m\u001b[38;5;241m.\u001b[39m_dns_host, \u001b[38;5;28mself\u001b[39m\u001b[38;5;241m.\u001b[39mport), \u001b[38;5;28mself\u001b[39m\u001b[38;5;241m.\u001b[39mtimeout, \u001b[38;5;241m*\u001b[39m\u001b[38;5;241m*\u001b[39mextra_kw\n\u001b[0;32m    176\u001b[0m     )\n\u001b[0;32m    178\u001b[0m \u001b[38;5;28;01mexcept\u001b[39;00m SocketTimeout:\n",
      "File \u001b[1;32m~\\anaconda3\\lib\\site-packages\\urllib3\\util\\connection.py:95\u001b[0m, in \u001b[0;36mcreate_connection\u001b[1;34m(address, timeout, source_address, socket_options)\u001b[0m\n\u001b[0;32m     94\u001b[0m \u001b[38;5;28;01mif\u001b[39;00m err \u001b[38;5;129;01mis\u001b[39;00m \u001b[38;5;129;01mnot\u001b[39;00m \u001b[38;5;28;01mNone\u001b[39;00m:\n\u001b[1;32m---> 95\u001b[0m     \u001b[38;5;28;01mraise\u001b[39;00m err\n\u001b[0;32m     97\u001b[0m \u001b[38;5;28;01mraise\u001b[39;00m socket\u001b[38;5;241m.\u001b[39merror(\u001b[38;5;124m\"\u001b[39m\u001b[38;5;124mgetaddrinfo returns an empty list\u001b[39m\u001b[38;5;124m\"\u001b[39m)\n",
      "File \u001b[1;32m~\\anaconda3\\lib\\site-packages\\urllib3\\util\\connection.py:85\u001b[0m, in \u001b[0;36mcreate_connection\u001b[1;34m(address, timeout, source_address, socket_options)\u001b[0m\n\u001b[0;32m     84\u001b[0m     sock\u001b[38;5;241m.\u001b[39mbind(source_address)\n\u001b[1;32m---> 85\u001b[0m \u001b[43msock\u001b[49m\u001b[38;5;241;43m.\u001b[39;49m\u001b[43mconnect\u001b[49m\u001b[43m(\u001b[49m\u001b[43msa\u001b[49m\u001b[43m)\u001b[49m\n\u001b[0;32m     86\u001b[0m \u001b[38;5;28;01mreturn\u001b[39;00m sock\n",
      "\u001b[1;31mConnectionRefusedError\u001b[0m: [WinError 10061] No connection could be made because the target machine actively refused it",
      "\nDuring handling of the above exception, another exception occurred:\n",
      "\u001b[1;31mNewConnectionError\u001b[0m                        Traceback (most recent call last)",
      "File \u001b[1;32m~\\anaconda3\\lib\\site-packages\\urllib3\\connectionpool.py:703\u001b[0m, in \u001b[0;36mHTTPConnectionPool.urlopen\u001b[1;34m(self, method, url, body, headers, retries, redirect, assert_same_host, timeout, pool_timeout, release_conn, chunked, body_pos, **response_kw)\u001b[0m\n\u001b[0;32m    702\u001b[0m \u001b[38;5;66;03m# Make the request on the httplib connection object.\u001b[39;00m\n\u001b[1;32m--> 703\u001b[0m httplib_response \u001b[38;5;241m=\u001b[39m \u001b[38;5;28;43mself\u001b[39;49m\u001b[38;5;241;43m.\u001b[39;49m\u001b[43m_make_request\u001b[49m\u001b[43m(\u001b[49m\n\u001b[0;32m    704\u001b[0m \u001b[43m    \u001b[49m\u001b[43mconn\u001b[49m\u001b[43m,\u001b[49m\n\u001b[0;32m    705\u001b[0m \u001b[43m    \u001b[49m\u001b[43mmethod\u001b[49m\u001b[43m,\u001b[49m\n\u001b[0;32m    706\u001b[0m \u001b[43m    \u001b[49m\u001b[43murl\u001b[49m\u001b[43m,\u001b[49m\n\u001b[0;32m    707\u001b[0m \u001b[43m    \u001b[49m\u001b[43mtimeout\u001b[49m\u001b[38;5;241;43m=\u001b[39;49m\u001b[43mtimeout_obj\u001b[49m\u001b[43m,\u001b[49m\n\u001b[0;32m    708\u001b[0m \u001b[43m    \u001b[49m\u001b[43mbody\u001b[49m\u001b[38;5;241;43m=\u001b[39;49m\u001b[43mbody\u001b[49m\u001b[43m,\u001b[49m\n\u001b[0;32m    709\u001b[0m \u001b[43m    \u001b[49m\u001b[43mheaders\u001b[49m\u001b[38;5;241;43m=\u001b[39;49m\u001b[43mheaders\u001b[49m\u001b[43m,\u001b[49m\n\u001b[0;32m    710\u001b[0m \u001b[43m    \u001b[49m\u001b[43mchunked\u001b[49m\u001b[38;5;241;43m=\u001b[39;49m\u001b[43mchunked\u001b[49m\u001b[43m,\u001b[49m\n\u001b[0;32m    711\u001b[0m \u001b[43m\u001b[49m\u001b[43m)\u001b[49m\n\u001b[0;32m    713\u001b[0m \u001b[38;5;66;03m# If we're going to release the connection in ``finally:``, then\u001b[39;00m\n\u001b[0;32m    714\u001b[0m \u001b[38;5;66;03m# the response doesn't need to know about the connection. Otherwise\u001b[39;00m\n\u001b[0;32m    715\u001b[0m \u001b[38;5;66;03m# it will also try to release it and we'll have a double-release\u001b[39;00m\n\u001b[0;32m    716\u001b[0m \u001b[38;5;66;03m# mess.\u001b[39;00m\n",
      "File \u001b[1;32m~\\anaconda3\\lib\\site-packages\\urllib3\\connectionpool.py:398\u001b[0m, in \u001b[0;36mHTTPConnectionPool._make_request\u001b[1;34m(self, conn, method, url, timeout, chunked, **httplib_request_kw)\u001b[0m\n\u001b[0;32m    397\u001b[0m     \u001b[38;5;28;01melse\u001b[39;00m:\n\u001b[1;32m--> 398\u001b[0m         conn\u001b[38;5;241m.\u001b[39mrequest(method, url, \u001b[38;5;241m*\u001b[39m\u001b[38;5;241m*\u001b[39mhttplib_request_kw)\n\u001b[0;32m    400\u001b[0m \u001b[38;5;66;03m# We are swallowing BrokenPipeError (errno.EPIPE) since the server is\u001b[39;00m\n\u001b[0;32m    401\u001b[0m \u001b[38;5;66;03m# legitimately able to close the connection after sending a valid response.\u001b[39;00m\n\u001b[0;32m    402\u001b[0m \u001b[38;5;66;03m# With this behaviour, the received response is still readable.\u001b[39;00m\n",
      "File \u001b[1;32m~\\anaconda3\\lib\\site-packages\\urllib3\\connection.py:239\u001b[0m, in \u001b[0;36mHTTPConnection.request\u001b[1;34m(self, method, url, body, headers)\u001b[0m\n\u001b[0;32m    238\u001b[0m     headers[\u001b[38;5;124m\"\u001b[39m\u001b[38;5;124mUser-Agent\u001b[39m\u001b[38;5;124m\"\u001b[39m] \u001b[38;5;241m=\u001b[39m _get_default_user_agent()\n\u001b[1;32m--> 239\u001b[0m \u001b[38;5;28;43msuper\u001b[39;49m\u001b[43m(\u001b[49m\u001b[43mHTTPConnection\u001b[49m\u001b[43m,\u001b[49m\u001b[43m \u001b[49m\u001b[38;5;28;43mself\u001b[39;49m\u001b[43m)\u001b[49m\u001b[38;5;241;43m.\u001b[39;49m\u001b[43mrequest\u001b[49m\u001b[43m(\u001b[49m\u001b[43mmethod\u001b[49m\u001b[43m,\u001b[49m\u001b[43m \u001b[49m\u001b[43murl\u001b[49m\u001b[43m,\u001b[49m\u001b[43m \u001b[49m\u001b[43mbody\u001b[49m\u001b[38;5;241;43m=\u001b[39;49m\u001b[43mbody\u001b[49m\u001b[43m,\u001b[49m\u001b[43m \u001b[49m\u001b[43mheaders\u001b[49m\u001b[38;5;241;43m=\u001b[39;49m\u001b[43mheaders\u001b[49m\u001b[43m)\u001b[49m\n",
      "File \u001b[1;32m~\\anaconda3\\lib\\http\\client.py:1282\u001b[0m, in \u001b[0;36mHTTPConnection.request\u001b[1;34m(self, method, url, body, headers, encode_chunked)\u001b[0m\n\u001b[0;32m   1281\u001b[0m \u001b[38;5;250m\u001b[39m\u001b[38;5;124;03m\"\"\"Send a complete request to the server.\"\"\"\u001b[39;00m\n\u001b[1;32m-> 1282\u001b[0m \u001b[38;5;28;43mself\u001b[39;49m\u001b[38;5;241;43m.\u001b[39;49m\u001b[43m_send_request\u001b[49m\u001b[43m(\u001b[49m\u001b[43mmethod\u001b[49m\u001b[43m,\u001b[49m\u001b[43m \u001b[49m\u001b[43murl\u001b[49m\u001b[43m,\u001b[49m\u001b[43m \u001b[49m\u001b[43mbody\u001b[49m\u001b[43m,\u001b[49m\u001b[43m \u001b[49m\u001b[43mheaders\u001b[49m\u001b[43m,\u001b[49m\u001b[43m \u001b[49m\u001b[43mencode_chunked\u001b[49m\u001b[43m)\u001b[49m\n",
      "File \u001b[1;32m~\\anaconda3\\lib\\http\\client.py:1328\u001b[0m, in \u001b[0;36mHTTPConnection._send_request\u001b[1;34m(self, method, url, body, headers, encode_chunked)\u001b[0m\n\u001b[0;32m   1327\u001b[0m     body \u001b[38;5;241m=\u001b[39m _encode(body, \u001b[38;5;124m'\u001b[39m\u001b[38;5;124mbody\u001b[39m\u001b[38;5;124m'\u001b[39m)\n\u001b[1;32m-> 1328\u001b[0m \u001b[38;5;28;43mself\u001b[39;49m\u001b[38;5;241;43m.\u001b[39;49m\u001b[43mendheaders\u001b[49m\u001b[43m(\u001b[49m\u001b[43mbody\u001b[49m\u001b[43m,\u001b[49m\u001b[43m \u001b[49m\u001b[43mencode_chunked\u001b[49m\u001b[38;5;241;43m=\u001b[39;49m\u001b[43mencode_chunked\u001b[49m\u001b[43m)\u001b[49m\n",
      "File \u001b[1;32m~\\anaconda3\\lib\\http\\client.py:1277\u001b[0m, in \u001b[0;36mHTTPConnection.endheaders\u001b[1;34m(self, message_body, encode_chunked)\u001b[0m\n\u001b[0;32m   1276\u001b[0m     \u001b[38;5;28;01mraise\u001b[39;00m CannotSendHeader()\n\u001b[1;32m-> 1277\u001b[0m \u001b[38;5;28;43mself\u001b[39;49m\u001b[38;5;241;43m.\u001b[39;49m\u001b[43m_send_output\u001b[49m\u001b[43m(\u001b[49m\u001b[43mmessage_body\u001b[49m\u001b[43m,\u001b[49m\u001b[43m \u001b[49m\u001b[43mencode_chunked\u001b[49m\u001b[38;5;241;43m=\u001b[39;49m\u001b[43mencode_chunked\u001b[49m\u001b[43m)\u001b[49m\n",
      "File \u001b[1;32m~\\anaconda3\\lib\\http\\client.py:1037\u001b[0m, in \u001b[0;36mHTTPConnection._send_output\u001b[1;34m(self, message_body, encode_chunked)\u001b[0m\n\u001b[0;32m   1036\u001b[0m \u001b[38;5;28;01mdel\u001b[39;00m \u001b[38;5;28mself\u001b[39m\u001b[38;5;241m.\u001b[39m_buffer[:]\n\u001b[1;32m-> 1037\u001b[0m \u001b[38;5;28;43mself\u001b[39;49m\u001b[38;5;241;43m.\u001b[39;49m\u001b[43msend\u001b[49m\u001b[43m(\u001b[49m\u001b[43mmsg\u001b[49m\u001b[43m)\u001b[49m\n\u001b[0;32m   1039\u001b[0m \u001b[38;5;28;01mif\u001b[39;00m message_body \u001b[38;5;129;01mis\u001b[39;00m \u001b[38;5;129;01mnot\u001b[39;00m \u001b[38;5;28;01mNone\u001b[39;00m:\n\u001b[0;32m   1040\u001b[0m \n\u001b[0;32m   1041\u001b[0m     \u001b[38;5;66;03m# create a consistent interface to message_body\u001b[39;00m\n",
      "File \u001b[1;32m~\\anaconda3\\lib\\http\\client.py:975\u001b[0m, in \u001b[0;36mHTTPConnection.send\u001b[1;34m(self, data)\u001b[0m\n\u001b[0;32m    974\u001b[0m \u001b[38;5;28;01mif\u001b[39;00m \u001b[38;5;28mself\u001b[39m\u001b[38;5;241m.\u001b[39mauto_open:\n\u001b[1;32m--> 975\u001b[0m     \u001b[38;5;28;43mself\u001b[39;49m\u001b[38;5;241;43m.\u001b[39;49m\u001b[43mconnect\u001b[49m\u001b[43m(\u001b[49m\u001b[43m)\u001b[49m\n\u001b[0;32m    976\u001b[0m \u001b[38;5;28;01melse\u001b[39;00m:\n",
      "File \u001b[1;32m~\\anaconda3\\lib\\site-packages\\urllib3\\connection.py:205\u001b[0m, in \u001b[0;36mHTTPConnection.connect\u001b[1;34m(self)\u001b[0m\n\u001b[0;32m    204\u001b[0m \u001b[38;5;28;01mdef\u001b[39;00m \u001b[38;5;21mconnect\u001b[39m(\u001b[38;5;28mself\u001b[39m):\n\u001b[1;32m--> 205\u001b[0m     conn \u001b[38;5;241m=\u001b[39m \u001b[38;5;28;43mself\u001b[39;49m\u001b[38;5;241;43m.\u001b[39;49m\u001b[43m_new_conn\u001b[49m\u001b[43m(\u001b[49m\u001b[43m)\u001b[49m\n\u001b[0;32m    206\u001b[0m     \u001b[38;5;28mself\u001b[39m\u001b[38;5;241m.\u001b[39m_prepare_conn(conn)\n",
      "File \u001b[1;32m~\\anaconda3\\lib\\site-packages\\urllib3\\connection.py:186\u001b[0m, in \u001b[0;36mHTTPConnection._new_conn\u001b[1;34m(self)\u001b[0m\n\u001b[0;32m    185\u001b[0m \u001b[38;5;28;01mexcept\u001b[39;00m SocketError \u001b[38;5;28;01mas\u001b[39;00m e:\n\u001b[1;32m--> 186\u001b[0m     \u001b[38;5;28;01mraise\u001b[39;00m NewConnectionError(\n\u001b[0;32m    187\u001b[0m         \u001b[38;5;28mself\u001b[39m, \u001b[38;5;124m\"\u001b[39m\u001b[38;5;124mFailed to establish a new connection: \u001b[39m\u001b[38;5;132;01m%s\u001b[39;00m\u001b[38;5;124m\"\u001b[39m \u001b[38;5;241m%\u001b[39m e\n\u001b[0;32m    188\u001b[0m     )\n\u001b[0;32m    190\u001b[0m \u001b[38;5;28;01mreturn\u001b[39;00m conn\n",
      "\u001b[1;31mNewConnectionError\u001b[0m: <urllib3.connection.HTTPConnection object at 0x000001DBF54BEAA0>: Failed to establish a new connection: [WinError 10061] No connection could be made because the target machine actively refused it",
      "\nDuring handling of the above exception, another exception occurred:\n",
      "\u001b[1;31mMaxRetryError\u001b[0m                             Traceback (most recent call last)",
      "Cell \u001b[1;32mIn[16], line 2\u001b[0m\n\u001b[0;32m      1\u001b[0m \u001b[38;5;66;03m# Navigate to the advanced button element\u001b[39;00m\n\u001b[1;32m----> 2\u001b[0m advanced_button \u001b[38;5;241m=\u001b[39m \u001b[43mdriver\u001b[49m\u001b[38;5;241;43m.\u001b[39;49m\u001b[43mfind_element\u001b[49m\u001b[43m(\u001b[49m\u001b[43mby\u001b[49m\u001b[38;5;241;43m=\u001b[39;49m\u001b[38;5;124;43m\"\u001b[39;49m\u001b[38;5;124;43mxpath\u001b[39;49m\u001b[38;5;124;43m\"\u001b[39;49m\u001b[43m,\u001b[49m\u001b[43m \u001b[49m\u001b[43mvalue\u001b[49m\u001b[38;5;241;43m=\u001b[39;49m\u001b[38;5;124;43m'\u001b[39;49m\u001b[38;5;124;43m//div[@class=\u001b[39;49m\u001b[38;5;124;43m\"\u001b[39;49m\u001b[38;5;124;43mnav-wrapper\u001b[39;49m\u001b[38;5;124;43m\"\u001b[39;49m\u001b[38;5;124;43m]//button[@id=\u001b[39;49m\u001b[38;5;124;43m\"\u001b[39;49m\u001b[38;5;124;43mdetails-button\u001b[39;49m\u001b[38;5;124;43m\"\u001b[39;49m\u001b[38;5;124;43m]\u001b[39;49m\u001b[38;5;124;43m'\u001b[39;49m\u001b[43m)\u001b[49m\n",
      "File \u001b[1;32m~\\anaconda3\\lib\\site-packages\\selenium\\webdriver\\remote\\webdriver.py:741\u001b[0m, in \u001b[0;36mWebDriver.find_element\u001b[1;34m(self, by, value)\u001b[0m\n\u001b[0;32m    738\u001b[0m     by \u001b[38;5;241m=\u001b[39m By\u001b[38;5;241m.\u001b[39mCSS_SELECTOR\n\u001b[0;32m    739\u001b[0m     value \u001b[38;5;241m=\u001b[39m \u001b[38;5;124mf\u001b[39m\u001b[38;5;124m'\u001b[39m\u001b[38;5;124m[name=\u001b[39m\u001b[38;5;124m\"\u001b[39m\u001b[38;5;132;01m{\u001b[39;00mvalue\u001b[38;5;132;01m}\u001b[39;00m\u001b[38;5;124m\"\u001b[39m\u001b[38;5;124m]\u001b[39m\u001b[38;5;124m'\u001b[39m\n\u001b[1;32m--> 741\u001b[0m \u001b[38;5;28;01mreturn\u001b[39;00m \u001b[38;5;28;43mself\u001b[39;49m\u001b[38;5;241;43m.\u001b[39;49m\u001b[43mexecute\u001b[49m\u001b[43m(\u001b[49m\u001b[43mCommand\u001b[49m\u001b[38;5;241;43m.\u001b[39;49m\u001b[43mFIND_ELEMENT\u001b[49m\u001b[43m,\u001b[49m\u001b[43m \u001b[49m\u001b[43m{\u001b[49m\u001b[38;5;124;43m\"\u001b[39;49m\u001b[38;5;124;43musing\u001b[39;49m\u001b[38;5;124;43m\"\u001b[39;49m\u001b[43m:\u001b[49m\u001b[43m \u001b[49m\u001b[43mby\u001b[49m\u001b[43m,\u001b[49m\u001b[43m \u001b[49m\u001b[38;5;124;43m\"\u001b[39;49m\u001b[38;5;124;43mvalue\u001b[39;49m\u001b[38;5;124;43m\"\u001b[39;49m\u001b[43m:\u001b[49m\u001b[43m \u001b[49m\u001b[43mvalue\u001b[49m\u001b[43m}\u001b[49m\u001b[43m)\u001b[49m[\u001b[38;5;124m\"\u001b[39m\u001b[38;5;124mvalue\u001b[39m\u001b[38;5;124m\"\u001b[39m]\n",
      "File \u001b[1;32m~\\anaconda3\\lib\\site-packages\\selenium\\webdriver\\remote\\webdriver.py:345\u001b[0m, in \u001b[0;36mWebDriver.execute\u001b[1;34m(self, driver_command, params)\u001b[0m\n\u001b[0;32m    342\u001b[0m     \u001b[38;5;28;01melif\u001b[39;00m \u001b[38;5;124m\"\u001b[39m\u001b[38;5;124msessionId\u001b[39m\u001b[38;5;124m\"\u001b[39m \u001b[38;5;129;01mnot\u001b[39;00m \u001b[38;5;129;01min\u001b[39;00m params:\n\u001b[0;32m    343\u001b[0m         params[\u001b[38;5;124m\"\u001b[39m\u001b[38;5;124msessionId\u001b[39m\u001b[38;5;124m\"\u001b[39m] \u001b[38;5;241m=\u001b[39m \u001b[38;5;28mself\u001b[39m\u001b[38;5;241m.\u001b[39msession_id\n\u001b[1;32m--> 345\u001b[0m response \u001b[38;5;241m=\u001b[39m \u001b[38;5;28;43mself\u001b[39;49m\u001b[38;5;241;43m.\u001b[39;49m\u001b[43mcommand_executor\u001b[49m\u001b[38;5;241;43m.\u001b[39;49m\u001b[43mexecute\u001b[49m\u001b[43m(\u001b[49m\u001b[43mdriver_command\u001b[49m\u001b[43m,\u001b[49m\u001b[43m \u001b[49m\u001b[43mparams\u001b[49m\u001b[43m)\u001b[49m\n\u001b[0;32m    346\u001b[0m \u001b[38;5;28;01mif\u001b[39;00m response:\n\u001b[0;32m    347\u001b[0m     \u001b[38;5;28mself\u001b[39m\u001b[38;5;241m.\u001b[39merror_handler\u001b[38;5;241m.\u001b[39mcheck_response(response)\n",
      "File \u001b[1;32m~\\anaconda3\\lib\\site-packages\\selenium\\webdriver\\remote\\remote_connection.py:302\u001b[0m, in \u001b[0;36mRemoteConnection.execute\u001b[1;34m(self, command, params)\u001b[0m\n\u001b[0;32m    300\u001b[0m trimmed \u001b[38;5;241m=\u001b[39m \u001b[38;5;28mself\u001b[39m\u001b[38;5;241m.\u001b[39m_trim_large_entries(params)\n\u001b[0;32m    301\u001b[0m LOGGER\u001b[38;5;241m.\u001b[39mdebug(\u001b[38;5;124m\"\u001b[39m\u001b[38;5;132;01m%s\u001b[39;00m\u001b[38;5;124m \u001b[39m\u001b[38;5;132;01m%s\u001b[39;00m\u001b[38;5;124m \u001b[39m\u001b[38;5;132;01m%s\u001b[39;00m\u001b[38;5;124m\"\u001b[39m, command_info[\u001b[38;5;241m0\u001b[39m], url, \u001b[38;5;28mstr\u001b[39m(trimmed))\n\u001b[1;32m--> 302\u001b[0m \u001b[38;5;28;01mreturn\u001b[39;00m \u001b[38;5;28;43mself\u001b[39;49m\u001b[38;5;241;43m.\u001b[39;49m\u001b[43m_request\u001b[49m\u001b[43m(\u001b[49m\u001b[43mcommand_info\u001b[49m\u001b[43m[\u001b[49m\u001b[38;5;241;43m0\u001b[39;49m\u001b[43m]\u001b[49m\u001b[43m,\u001b[49m\u001b[43m \u001b[49m\u001b[43murl\u001b[49m\u001b[43m,\u001b[49m\u001b[43m \u001b[49m\u001b[43mbody\u001b[49m\u001b[38;5;241;43m=\u001b[39;49m\u001b[43mdata\u001b[49m\u001b[43m)\u001b[49m\n",
      "File \u001b[1;32m~\\anaconda3\\lib\\site-packages\\selenium\\webdriver\\remote\\remote_connection.py:322\u001b[0m, in \u001b[0;36mRemoteConnection._request\u001b[1;34m(self, method, url, body)\u001b[0m\n\u001b[0;32m    319\u001b[0m     body \u001b[38;5;241m=\u001b[39m \u001b[38;5;28;01mNone\u001b[39;00m\n\u001b[0;32m    321\u001b[0m \u001b[38;5;28;01mif\u001b[39;00m \u001b[38;5;28mself\u001b[39m\u001b[38;5;241m.\u001b[39mkeep_alive:\n\u001b[1;32m--> 322\u001b[0m     response \u001b[38;5;241m=\u001b[39m \u001b[38;5;28;43mself\u001b[39;49m\u001b[38;5;241;43m.\u001b[39;49m\u001b[43m_conn\u001b[49m\u001b[38;5;241;43m.\u001b[39;49m\u001b[43mrequest\u001b[49m\u001b[43m(\u001b[49m\u001b[43mmethod\u001b[49m\u001b[43m,\u001b[49m\u001b[43m \u001b[49m\u001b[43murl\u001b[49m\u001b[43m,\u001b[49m\u001b[43m \u001b[49m\u001b[43mbody\u001b[49m\u001b[38;5;241;43m=\u001b[39;49m\u001b[43mbody\u001b[49m\u001b[43m,\u001b[49m\u001b[43m \u001b[49m\u001b[43mheaders\u001b[49m\u001b[38;5;241;43m=\u001b[39;49m\u001b[43mheaders\u001b[49m\u001b[43m)\u001b[49m\n\u001b[0;32m    323\u001b[0m     statuscode \u001b[38;5;241m=\u001b[39m response\u001b[38;5;241m.\u001b[39mstatus\n\u001b[0;32m    324\u001b[0m \u001b[38;5;28;01melse\u001b[39;00m:\n",
      "File \u001b[1;32m~\\anaconda3\\lib\\site-packages\\urllib3\\request.py:78\u001b[0m, in \u001b[0;36mRequestMethods.request\u001b[1;34m(self, method, url, fields, headers, **urlopen_kw)\u001b[0m\n\u001b[0;32m     74\u001b[0m     \u001b[38;5;28;01mreturn\u001b[39;00m \u001b[38;5;28mself\u001b[39m\u001b[38;5;241m.\u001b[39mrequest_encode_url(\n\u001b[0;32m     75\u001b[0m         method, url, fields\u001b[38;5;241m=\u001b[39mfields, headers\u001b[38;5;241m=\u001b[39mheaders, \u001b[38;5;241m*\u001b[39m\u001b[38;5;241m*\u001b[39murlopen_kw\n\u001b[0;32m     76\u001b[0m     )\n\u001b[0;32m     77\u001b[0m \u001b[38;5;28;01melse\u001b[39;00m:\n\u001b[1;32m---> 78\u001b[0m     \u001b[38;5;28;01mreturn\u001b[39;00m \u001b[38;5;28mself\u001b[39m\u001b[38;5;241m.\u001b[39mrequest_encode_body(\n\u001b[0;32m     79\u001b[0m         method, url, fields\u001b[38;5;241m=\u001b[39mfields, headers\u001b[38;5;241m=\u001b[39mheaders, \u001b[38;5;241m*\u001b[39m\u001b[38;5;241m*\u001b[39murlopen_kw\n\u001b[0;32m     80\u001b[0m     )\n",
      "File \u001b[1;32m~\\anaconda3\\lib\\site-packages\\urllib3\\request.py:170\u001b[0m, in \u001b[0;36mRequestMethods.request_encode_body\u001b[1;34m(self, method, url, fields, headers, encode_multipart, multipart_boundary, **urlopen_kw)\u001b[0m\n\u001b[0;32m    167\u001b[0m extra_kw[\u001b[38;5;124m\"\u001b[39m\u001b[38;5;124mheaders\u001b[39m\u001b[38;5;124m\"\u001b[39m]\u001b[38;5;241m.\u001b[39mupdate(headers)\n\u001b[0;32m    168\u001b[0m extra_kw\u001b[38;5;241m.\u001b[39mupdate(urlopen_kw)\n\u001b[1;32m--> 170\u001b[0m \u001b[38;5;28;01mreturn\u001b[39;00m \u001b[38;5;28mself\u001b[39m\u001b[38;5;241m.\u001b[39murlopen(method, url, \u001b[38;5;241m*\u001b[39m\u001b[38;5;241m*\u001b[39mextra_kw)\n",
      "File \u001b[1;32m~\\anaconda3\\lib\\site-packages\\urllib3\\poolmanager.py:376\u001b[0m, in \u001b[0;36mPoolManager.urlopen\u001b[1;34m(self, method, url, redirect, **kw)\u001b[0m\n\u001b[0;32m    374\u001b[0m     response \u001b[38;5;241m=\u001b[39m conn\u001b[38;5;241m.\u001b[39murlopen(method, url, \u001b[38;5;241m*\u001b[39m\u001b[38;5;241m*\u001b[39mkw)\n\u001b[0;32m    375\u001b[0m \u001b[38;5;28;01melse\u001b[39;00m:\n\u001b[1;32m--> 376\u001b[0m     response \u001b[38;5;241m=\u001b[39m conn\u001b[38;5;241m.\u001b[39murlopen(method, u\u001b[38;5;241m.\u001b[39mrequest_uri, \u001b[38;5;241m*\u001b[39m\u001b[38;5;241m*\u001b[39mkw)\n\u001b[0;32m    378\u001b[0m redirect_location \u001b[38;5;241m=\u001b[39m redirect \u001b[38;5;129;01mand\u001b[39;00m response\u001b[38;5;241m.\u001b[39mget_redirect_location()\n\u001b[0;32m    379\u001b[0m \u001b[38;5;28;01mif\u001b[39;00m \u001b[38;5;129;01mnot\u001b[39;00m redirect_location:\n",
      "File \u001b[1;32m~\\anaconda3\\lib\\site-packages\\urllib3\\connectionpool.py:815\u001b[0m, in \u001b[0;36mHTTPConnectionPool.urlopen\u001b[1;34m(self, method, url, body, headers, retries, redirect, assert_same_host, timeout, pool_timeout, release_conn, chunked, body_pos, **response_kw)\u001b[0m\n\u001b[0;32m    810\u001b[0m \u001b[38;5;28;01mif\u001b[39;00m \u001b[38;5;129;01mnot\u001b[39;00m conn:\n\u001b[0;32m    811\u001b[0m     \u001b[38;5;66;03m# Try again\u001b[39;00m\n\u001b[0;32m    812\u001b[0m     log\u001b[38;5;241m.\u001b[39mwarning(\n\u001b[0;32m    813\u001b[0m         \u001b[38;5;124m\"\u001b[39m\u001b[38;5;124mRetrying (\u001b[39m\u001b[38;5;132;01m%r\u001b[39;00m\u001b[38;5;124m) after connection broken by \u001b[39m\u001b[38;5;124m'\u001b[39m\u001b[38;5;132;01m%r\u001b[39;00m\u001b[38;5;124m'\u001b[39m\u001b[38;5;124m: \u001b[39m\u001b[38;5;132;01m%s\u001b[39;00m\u001b[38;5;124m\"\u001b[39m, retries, err, url\n\u001b[0;32m    814\u001b[0m     )\n\u001b[1;32m--> 815\u001b[0m     \u001b[38;5;28;01mreturn\u001b[39;00m \u001b[38;5;28mself\u001b[39m\u001b[38;5;241m.\u001b[39murlopen(\n\u001b[0;32m    816\u001b[0m         method,\n\u001b[0;32m    817\u001b[0m         url,\n\u001b[0;32m    818\u001b[0m         body,\n\u001b[0;32m    819\u001b[0m         headers,\n\u001b[0;32m    820\u001b[0m         retries,\n\u001b[0;32m    821\u001b[0m         redirect,\n\u001b[0;32m    822\u001b[0m         assert_same_host,\n\u001b[0;32m    823\u001b[0m         timeout\u001b[38;5;241m=\u001b[39mtimeout,\n\u001b[0;32m    824\u001b[0m         pool_timeout\u001b[38;5;241m=\u001b[39mpool_timeout,\n\u001b[0;32m    825\u001b[0m         release_conn\u001b[38;5;241m=\u001b[39mrelease_conn,\n\u001b[0;32m    826\u001b[0m         chunked\u001b[38;5;241m=\u001b[39mchunked,\n\u001b[0;32m    827\u001b[0m         body_pos\u001b[38;5;241m=\u001b[39mbody_pos,\n\u001b[0;32m    828\u001b[0m         \u001b[38;5;241m*\u001b[39m\u001b[38;5;241m*\u001b[39mresponse_kw\n\u001b[0;32m    829\u001b[0m     )\n\u001b[0;32m    831\u001b[0m \u001b[38;5;66;03m# Handle redirect?\u001b[39;00m\n\u001b[0;32m    832\u001b[0m redirect_location \u001b[38;5;241m=\u001b[39m redirect \u001b[38;5;129;01mand\u001b[39;00m response\u001b[38;5;241m.\u001b[39mget_redirect_location()\n",
      "File \u001b[1;32m~\\anaconda3\\lib\\site-packages\\urllib3\\connectionpool.py:815\u001b[0m, in \u001b[0;36mHTTPConnectionPool.urlopen\u001b[1;34m(self, method, url, body, headers, retries, redirect, assert_same_host, timeout, pool_timeout, release_conn, chunked, body_pos, **response_kw)\u001b[0m\n\u001b[0;32m    810\u001b[0m \u001b[38;5;28;01mif\u001b[39;00m \u001b[38;5;129;01mnot\u001b[39;00m conn:\n\u001b[0;32m    811\u001b[0m     \u001b[38;5;66;03m# Try again\u001b[39;00m\n\u001b[0;32m    812\u001b[0m     log\u001b[38;5;241m.\u001b[39mwarning(\n\u001b[0;32m    813\u001b[0m         \u001b[38;5;124m\"\u001b[39m\u001b[38;5;124mRetrying (\u001b[39m\u001b[38;5;132;01m%r\u001b[39;00m\u001b[38;5;124m) after connection broken by \u001b[39m\u001b[38;5;124m'\u001b[39m\u001b[38;5;132;01m%r\u001b[39;00m\u001b[38;5;124m'\u001b[39m\u001b[38;5;124m: \u001b[39m\u001b[38;5;132;01m%s\u001b[39;00m\u001b[38;5;124m\"\u001b[39m, retries, err, url\n\u001b[0;32m    814\u001b[0m     )\n\u001b[1;32m--> 815\u001b[0m     \u001b[38;5;28;01mreturn\u001b[39;00m \u001b[38;5;28mself\u001b[39m\u001b[38;5;241m.\u001b[39murlopen(\n\u001b[0;32m    816\u001b[0m         method,\n\u001b[0;32m    817\u001b[0m         url,\n\u001b[0;32m    818\u001b[0m         body,\n\u001b[0;32m    819\u001b[0m         headers,\n\u001b[0;32m    820\u001b[0m         retries,\n\u001b[0;32m    821\u001b[0m         redirect,\n\u001b[0;32m    822\u001b[0m         assert_same_host,\n\u001b[0;32m    823\u001b[0m         timeout\u001b[38;5;241m=\u001b[39mtimeout,\n\u001b[0;32m    824\u001b[0m         pool_timeout\u001b[38;5;241m=\u001b[39mpool_timeout,\n\u001b[0;32m    825\u001b[0m         release_conn\u001b[38;5;241m=\u001b[39mrelease_conn,\n\u001b[0;32m    826\u001b[0m         chunked\u001b[38;5;241m=\u001b[39mchunked,\n\u001b[0;32m    827\u001b[0m         body_pos\u001b[38;5;241m=\u001b[39mbody_pos,\n\u001b[0;32m    828\u001b[0m         \u001b[38;5;241m*\u001b[39m\u001b[38;5;241m*\u001b[39mresponse_kw\n\u001b[0;32m    829\u001b[0m     )\n\u001b[0;32m    831\u001b[0m \u001b[38;5;66;03m# Handle redirect?\u001b[39;00m\n\u001b[0;32m    832\u001b[0m redirect_location \u001b[38;5;241m=\u001b[39m redirect \u001b[38;5;129;01mand\u001b[39;00m response\u001b[38;5;241m.\u001b[39mget_redirect_location()\n",
      "File \u001b[1;32m~\\anaconda3\\lib\\site-packages\\urllib3\\connectionpool.py:815\u001b[0m, in \u001b[0;36mHTTPConnectionPool.urlopen\u001b[1;34m(self, method, url, body, headers, retries, redirect, assert_same_host, timeout, pool_timeout, release_conn, chunked, body_pos, **response_kw)\u001b[0m\n\u001b[0;32m    810\u001b[0m \u001b[38;5;28;01mif\u001b[39;00m \u001b[38;5;129;01mnot\u001b[39;00m conn:\n\u001b[0;32m    811\u001b[0m     \u001b[38;5;66;03m# Try again\u001b[39;00m\n\u001b[0;32m    812\u001b[0m     log\u001b[38;5;241m.\u001b[39mwarning(\n\u001b[0;32m    813\u001b[0m         \u001b[38;5;124m\"\u001b[39m\u001b[38;5;124mRetrying (\u001b[39m\u001b[38;5;132;01m%r\u001b[39;00m\u001b[38;5;124m) after connection broken by \u001b[39m\u001b[38;5;124m'\u001b[39m\u001b[38;5;132;01m%r\u001b[39;00m\u001b[38;5;124m'\u001b[39m\u001b[38;5;124m: \u001b[39m\u001b[38;5;132;01m%s\u001b[39;00m\u001b[38;5;124m\"\u001b[39m, retries, err, url\n\u001b[0;32m    814\u001b[0m     )\n\u001b[1;32m--> 815\u001b[0m     \u001b[38;5;28;01mreturn\u001b[39;00m \u001b[38;5;28mself\u001b[39m\u001b[38;5;241m.\u001b[39murlopen(\n\u001b[0;32m    816\u001b[0m         method,\n\u001b[0;32m    817\u001b[0m         url,\n\u001b[0;32m    818\u001b[0m         body,\n\u001b[0;32m    819\u001b[0m         headers,\n\u001b[0;32m    820\u001b[0m         retries,\n\u001b[0;32m    821\u001b[0m         redirect,\n\u001b[0;32m    822\u001b[0m         assert_same_host,\n\u001b[0;32m    823\u001b[0m         timeout\u001b[38;5;241m=\u001b[39mtimeout,\n\u001b[0;32m    824\u001b[0m         pool_timeout\u001b[38;5;241m=\u001b[39mpool_timeout,\n\u001b[0;32m    825\u001b[0m         release_conn\u001b[38;5;241m=\u001b[39mrelease_conn,\n\u001b[0;32m    826\u001b[0m         chunked\u001b[38;5;241m=\u001b[39mchunked,\n\u001b[0;32m    827\u001b[0m         body_pos\u001b[38;5;241m=\u001b[39mbody_pos,\n\u001b[0;32m    828\u001b[0m         \u001b[38;5;241m*\u001b[39m\u001b[38;5;241m*\u001b[39mresponse_kw\n\u001b[0;32m    829\u001b[0m     )\n\u001b[0;32m    831\u001b[0m \u001b[38;5;66;03m# Handle redirect?\u001b[39;00m\n\u001b[0;32m    832\u001b[0m redirect_location \u001b[38;5;241m=\u001b[39m redirect \u001b[38;5;129;01mand\u001b[39;00m response\u001b[38;5;241m.\u001b[39mget_redirect_location()\n",
      "File \u001b[1;32m~\\anaconda3\\lib\\site-packages\\urllib3\\connectionpool.py:787\u001b[0m, in \u001b[0;36mHTTPConnectionPool.urlopen\u001b[1;34m(self, method, url, body, headers, retries, redirect, assert_same_host, timeout, pool_timeout, release_conn, chunked, body_pos, **response_kw)\u001b[0m\n\u001b[0;32m    784\u001b[0m \u001b[38;5;28;01melif\u001b[39;00m \u001b[38;5;28misinstance\u001b[39m(e, (SocketError, HTTPException)):\n\u001b[0;32m    785\u001b[0m     e \u001b[38;5;241m=\u001b[39m ProtocolError(\u001b[38;5;124m\"\u001b[39m\u001b[38;5;124mConnection aborted.\u001b[39m\u001b[38;5;124m\"\u001b[39m, e)\n\u001b[1;32m--> 787\u001b[0m retries \u001b[38;5;241m=\u001b[39m \u001b[43mretries\u001b[49m\u001b[38;5;241;43m.\u001b[39;49m\u001b[43mincrement\u001b[49m\u001b[43m(\u001b[49m\n\u001b[0;32m    788\u001b[0m \u001b[43m    \u001b[49m\u001b[43mmethod\u001b[49m\u001b[43m,\u001b[49m\u001b[43m \u001b[49m\u001b[43murl\u001b[49m\u001b[43m,\u001b[49m\u001b[43m \u001b[49m\u001b[43merror\u001b[49m\u001b[38;5;241;43m=\u001b[39;49m\u001b[43me\u001b[49m\u001b[43m,\u001b[49m\u001b[43m \u001b[49m\u001b[43m_pool\u001b[49m\u001b[38;5;241;43m=\u001b[39;49m\u001b[38;5;28;43mself\u001b[39;49m\u001b[43m,\u001b[49m\u001b[43m \u001b[49m\u001b[43m_stacktrace\u001b[49m\u001b[38;5;241;43m=\u001b[39;49m\u001b[43msys\u001b[49m\u001b[38;5;241;43m.\u001b[39;49m\u001b[43mexc_info\u001b[49m\u001b[43m(\u001b[49m\u001b[43m)\u001b[49m\u001b[43m[\u001b[49m\u001b[38;5;241;43m2\u001b[39;49m\u001b[43m]\u001b[49m\n\u001b[0;32m    789\u001b[0m \u001b[43m\u001b[49m\u001b[43m)\u001b[49m\n\u001b[0;32m    790\u001b[0m retries\u001b[38;5;241m.\u001b[39msleep()\n\u001b[0;32m    792\u001b[0m \u001b[38;5;66;03m# Keep track of the error for the retry warning.\u001b[39;00m\n",
      "File \u001b[1;32m~\\anaconda3\\lib\\site-packages\\urllib3\\util\\retry.py:592\u001b[0m, in \u001b[0;36mRetry.increment\u001b[1;34m(self, method, url, response, error, _pool, _stacktrace)\u001b[0m\n\u001b[0;32m    581\u001b[0m new_retry \u001b[38;5;241m=\u001b[39m \u001b[38;5;28mself\u001b[39m\u001b[38;5;241m.\u001b[39mnew(\n\u001b[0;32m    582\u001b[0m     total\u001b[38;5;241m=\u001b[39mtotal,\n\u001b[0;32m    583\u001b[0m     connect\u001b[38;5;241m=\u001b[39mconnect,\n\u001b[1;32m   (...)\u001b[0m\n\u001b[0;32m    588\u001b[0m     history\u001b[38;5;241m=\u001b[39mhistory,\n\u001b[0;32m    589\u001b[0m )\n\u001b[0;32m    591\u001b[0m \u001b[38;5;28;01mif\u001b[39;00m new_retry\u001b[38;5;241m.\u001b[39mis_exhausted():\n\u001b[1;32m--> 592\u001b[0m     \u001b[38;5;28;01mraise\u001b[39;00m MaxRetryError(_pool, url, error \u001b[38;5;129;01mor\u001b[39;00m ResponseError(cause))\n\u001b[0;32m    594\u001b[0m log\u001b[38;5;241m.\u001b[39mdebug(\u001b[38;5;124m\"\u001b[39m\u001b[38;5;124mIncremented Retry for (url=\u001b[39m\u001b[38;5;124m'\u001b[39m\u001b[38;5;132;01m%s\u001b[39;00m\u001b[38;5;124m'\u001b[39m\u001b[38;5;124m): \u001b[39m\u001b[38;5;132;01m%r\u001b[39;00m\u001b[38;5;124m\"\u001b[39m, url, new_retry)\n\u001b[0;32m    596\u001b[0m \u001b[38;5;28;01mreturn\u001b[39;00m new_retry\n",
      "\u001b[1;31mMaxRetryError\u001b[0m: HTTPConnectionPool(host='localhost', port=62228): Max retries exceeded with url: /session/2792b8e332dd4e5b525ff5a904131e4f/element (Caused by NewConnectionError('<urllib3.connection.HTTPConnection object at 0x000001DBF54BEAA0>: Failed to establish a new connection: [WinError 10061] No connection could be made because the target machine actively refused it'))"
     ]
    }
   ],
   "source": [
    "# Navigate to the advanced button element\n",
    "advanced_button = driver.find_element(by=\"xpath\", value='//div[@class=\"nav-wrapper\"]//button[@id=\"details-button\"]')"
   ]
  },
  {
   "cell_type": "code",
   "execution_count": null,
   "id": "735e2329-577a-4f39-9076-069acc3a1c33",
   "metadata": {
    "tags": []
   },
   "outputs": [],
   "source": [
    "advanced_button.click()"
   ]
  },
  {
   "cell_type": "code",
   "execution_count": null,
   "id": "4fe78e74-1327-475c-bdd8-21cb7802efb2",
   "metadata": {
    "tags": []
   },
   "outputs": [],
   "source": [
    "# Navigate to the proceed button\n",
    "time.sleep(8)\n",
    "proceed_button = driver.find_element(by=\"xpath\", value='//div[@id=\"details\"]/p/a[@id=\"proceed-link\"]')"
   ]
  },
  {
   "cell_type": "code",
   "execution_count": null,
   "id": "2fc8145b-0685-43ef-aba9-d8651f375a65",
   "metadata": {
    "tags": []
   },
   "outputs": [],
   "source": [
    "# Clicks the proceed_button and retries that action if it fails due to a timeout exception, for a maximum of 5 times.\n",
    "time.sleep(8)\n",
    "max_retry_count = 5\n",
    "retry_count = 0\n",
    "\n",
    "while retry_count < max_retry_count:\n",
    "    try:\n",
    "        # Wait for the element to be clickable (you can adjust the timeout and other conditions as needed)\n",
    "        proceed_button = WebDriverWait(driver, 10).until(EC.element_to_be_clickable((By.XPATH, '//div[@id=\"details\"]/p/a[@id=\"proceed-link\"]')))\n",
    "        \n",
    "        # Perform the action on the element\n",
    "        proceed_button.click()\n",
    "        \n",
    "        # If the action succeeds, break out of the loop\n",
    "        break\n",
    "    \n",
    "    # Handle TimeoutException\n",
    "    except TimeoutException:\n",
    "        print(f\"Attempt {retry_count + 1}: Timed out waiting for the element to be clickable\")\n",
    "        \n",
    "        if retry_count == 4:\n",
    "            print(\"Website is down or internet connection is bad. \\nBrowser will shutdown now.\")\n",
    "            driver.quit()\n",
    "        \n",
    "        # Increment the retry count\n",
    "        retry_count += 1\n",
    "    \n",
    "    # Handle NoSuchElementException\n",
    "    except NoSuchElementException:\n",
    "        print(\"Bot cannot find relevant element, or very slow internet connection. \\nPlease ensure your internet connection is fast and try again. \\nBrowser will shutdown now...\")\n",
    "        driver.quit()"
   ]
  },
  {
   "cell_type": "code",
   "execution_count": null,
   "id": "42f541dd-3954-4540-a8a1-2e52f4a45dc7",
   "metadata": {
    "tags": []
   },
   "outputs": [],
   "source": [
    "# Select Admin access level\n",
    "time.sleep(15)\n",
    "admin = driver.find_element(by=\"xpath\", value='//div[@class=\"radio\"]/label/input[@value=\"admin\"]')"
   ]
  },
  {
   "cell_type": "code",
   "execution_count": null,
   "id": "14a153c6-587f-4540-9008-b925cd52a7a3",
   "metadata": {
    "tags": []
   },
   "outputs": [],
   "source": [
    "admin.click()"
   ]
  },
  {
   "cell_type": "code",
   "execution_count": 14,
   "id": "2f4691ce-38b2-4fd2-a72b-5b2ccc033b68",
   "metadata": {
    "tags": []
   },
   "outputs": [],
   "source": [
    "# Handle potential pop-up alert\n",
    "# Navigate to the password text box\n",
    "password_input = driver.find_element(by=\"xpath\", value='//div[@class=\"form-group\"]/input[@type=\"password\"]')\n",
    "\n",
    "# Input the password\n",
    "password_input.send_keys('Superadmin')\n",
    "\n",
    "# Check if the unexpected element pop-up is present\n",
    "try:\n",
    "    popup_element = driver.find_element(by=\"xpath\", value='//*[@id=\"vue-interface-notice\"]/div[6]/div/div[2]/button')\n",
    "    \n",
    "    # Try to click the element, and handle ElementNotInteractableException\n",
    "    try:\n",
    "        popup_element.click()\n",
    "    except ElementNotInteractableException:\n",
    "        # Handle the ElementNotInteractableException here, e.g., wait for it to be clickable\n",
    "        # or perform another action as needed.\n",
    "        pass\n",
    "\n",
    "except NoSuchElementException:\n",
    "    # If the element is not found, do nothing\n",
    "    pass"
   ]
  },
  {
   "cell_type": "code",
   "execution_count": 15,
   "id": "a3dc993b-c904-4015-9f06-92c8f64a05d8",
   "metadata": {
    "tags": []
   },
   "outputs": [],
   "source": [
    "# Click the sign in button\n",
    "sign_in = driver.find_element(by=\"xpath\", value='//div[@class=\"form-group\"]/a[@class=\"btn btn-lg btn-primary btn-block\"]')"
   ]
  },
  {
   "cell_type": "code",
   "execution_count": 16,
   "id": "ca71b080-df7d-4272-9f54-80879a7edbe4",
   "metadata": {
    "tags": []
   },
   "outputs": [],
   "source": [
    "sign_in.click()"
   ]
  },
  {
   "cell_type": "code",
   "execution_count": 17,
   "id": "a690595a-2b67-4552-a21d-998f49f4de32",
   "metadata": {
    "tags": []
   },
   "outputs": [],
   "source": [
    "# Navigate and click the dropdown button\n",
    "# Maximum number of retry attempts\n",
    "time.sleep(10)\n",
    "max_retries = 5\n",
    "\n",
    "# Define your XPath here\n",
    "xpath = '//div[@class=\"collapse navbar-collapse\"]/ul/li/a[@class=\"dropdown-toggle\" and contains(text(), \"Metering\")]'\n",
    "\n",
    "for retry in range(max_retries):\n",
    "    try:\n",
    "        dropdown = driver.find_element(by=\"xpath\", value=xpath)\n",
    "        # If the element is found, break out of the loop\n",
    "        break\n",
    "    except NoSuchElementException:\n",
    "        if retry < max_retries - 1:\n",
    "            print(f\"Element not found (attempt {retry + 1}/{max_retries}), retrying...\")\n",
    "            time.sleep(1)  # Add a delay before the next retry if needed\n",
    "        else:\n",
    "            print(\"Element not found after maximum retries.\")\n",
    "            # You can raise an exception or handle it accordingly here"
   ]
  },
  {
   "cell_type": "code",
   "execution_count": 18,
   "id": "d3035664-794e-4091-ae75-74344b61f628",
   "metadata": {
    "tags": []
   },
   "outputs": [],
   "source": [
    "dropdown.click()"
   ]
  },
  {
   "cell_type": "code",
   "execution_count": 19,
   "id": "adf1e2b3-87c5-4f3c-bf23-5bd8fb80e743",
   "metadata": {
    "tags": []
   },
   "outputs": [],
   "source": [
    "# Navigate to the datalog option in the dropdown list\n",
    "time.sleep(10)\n",
    "datalog = driver.find_element(by=\"xpath\", value='//div[@class=\"collapse navbar-collapse\"]/ul/li/ul/li/a[@href=\"#!/files/datalog\"]')"
   ]
  },
  {
   "cell_type": "code",
   "execution_count": 20,
   "id": "16701435-3e02-4e4e-9f6c-b55d9c3da707",
   "metadata": {
    "tags": []
   },
   "outputs": [],
   "source": [
    "datalog.click()"
   ]
  },
  {
   "cell_type": "code",
   "execution_count": 21,
   "id": "b06e4b5a-3f3a-4adf-a2f7-9212eeff1dc7",
   "metadata": {
    "tags": []
   },
   "outputs": [],
   "source": [
    "# # In the list of files, Find all the file links that match the file name pattern\n",
    "\n",
    "time.sleep(15)\n",
    "\n",
    "# Increase the wait time to 30 seconds\n",
    "wait = WebDriverWait(driver, 30)\n",
    "\n",
    "try:\n",
    "    file_links = wait.until(EC.presence_of_all_elements_located((By.PARTIAL_LINK_TEXT, prefix)))\n",
    "    link_list = []\n",
    "\n",
    "    # Display text\n",
    "    for link in file_links:\n",
    "        # Extract the text from each link element and append it to the link_list\n",
    "        link_text = link.text\n",
    "        link_list.append(link_text)\n",
    "\n",
    "except Exception as e:\n",
    "    pass\n",
    "    # print(\"An error occurred:\", str(e))"
   ]
  },
  {
   "cell_type": "code",
   "execution_count": 22,
   "id": "b6506cbd-a0b0-4f5e-8062-136bd24c4d10",
   "metadata": {
    "scrolled": true,
    "tags": []
   },
   "outputs": [],
   "source": [
    "# link_list"
   ]
  },
  {
   "cell_type": "code",
   "execution_count": 23,
   "id": "d413354e-b993-411b-b020-a5fd6f6df196",
   "metadata": {
    "tags": []
   },
   "outputs": [],
   "source": [
    "# # Extract dates from link_list\n",
    "# dates = [re.search(r'\\d{4}-\\d{2}-\\d{2}', link).group() for link in link_list]\n",
    "\n",
    "# # Filter dates to get the 10th to 19th day of each month\n",
    "# filtered_dates = [date for date in dates if 10 <= int(date.split('-')[2]) <= 19]\n",
    "\n",
    "# # Calculate the last month\n",
    "# last_month = (datetime.now() - timedelta(days=30)).strftime('%Y-%m')\n",
    "\n",
    "# # Calculate the last date of the current month\n",
    "# # Get the current date\n",
    "# current_date = datetime.now()\n",
    "# # Find the last day of the current month\n",
    "# last_day_of_current_month = calendar.monthrange(current_date.year, current_date.month)[1]\n",
    "# # Format the date as year-month-day\n",
    "# last_date_of_current_month = current_date.replace(day=last_day_of_current_month).strftime('%Y-%m-%d')\n",
    "\n",
    "# # Calculate the last date of two months ago\n",
    "# # Get the date two months ago\n",
    "# two_months_ago = datetime.now() - timedelta(days=60)\n",
    "# # Find the last day of that month\n",
    "# last_day_of_two_months_ago = calendar.monthrange(two_months_ago.year, two_months_ago.month)[1]\n",
    "# # Format the date as year-month-day\n",
    "# last_date_of_two_months_ago = two_months_ago.replace(day=last_day_of_two_months_ago).strftime('%Y-%m-%d')\n",
    "\n",
    "\n",
    "\n",
    "# Extract dates from link_list\n",
    "dates = [re.search(r'\\d{4}-\\d{2}-\\d{2}', link).group() for link in link_list]\n",
    "\n",
    "# # Filter dates to get the 10th to 19th day of each month\n",
    "# filtered_dates = [date for date in dates if 10 <= int(date.split('-')[2]) <= 19]\n",
    "\n",
    "# Calculate the last month\n",
    "last_month = (datetime.now() - timedelta(days=30)).strftime('%Y-%m')\n",
    "\n",
    "# Calculate the first date of the current month\n",
    "# Get the current date\n",
    "current_date = datetime.now()\n",
    "# Set the day to the first of the month and format the date as year-month-day\n",
    "first_date_of_current_month = current_date.replace(day=1).strftime('%Y-%m-%d')\n",
    "\n",
    "# Calculate the last date of two months ago\n",
    "# Get the date two months ago\n",
    "two_months_ago = datetime.now() - timedelta(days=60)\n",
    "# Find the last day of that month\n",
    "last_day_of_two_months_ago = calendar.monthrange(two_months_ago.year, two_months_ago.month)[1]\n",
    "# Format the date as year-month-day\n",
    "last_date_of_two_months_ago = two_months_ago.replace(day=last_day_of_two_months_ago).strftime('%Y-%m-%d')"
   ]
  },
  {
   "cell_type": "code",
   "execution_count": 24,
   "id": "c8df0d4d-9186-41af-b97f-42a290f28d5e",
   "metadata": {
    "tags": []
   },
   "outputs": [],
   "source": [
    "base_folder_file_list = []"
   ]
  },
  {
   "cell_type": "code",
   "execution_count": 25,
   "id": "d9a21d37-1163-49c9-89d6-67c0714a4acf",
   "metadata": {
    "tags": []
   },
   "outputs": [],
   "source": [
    "# Iterate over the files in the specified base folder.\n",
    "for file in os.listdir(base_folder):\n",
    "    # Check if the file meets certain conditions:\n",
    "    \n",
    "    # Check if the file starts with a specific prefix and has a \".csv\" extension.\n",
    "    if file.startswith(prefix) and file.endswith(\".csv\"):\n",
    "        # If the conditions are met, add the file to the list of files in the base folder.\n",
    "        base_folder_file_list.append(file)"
   ]
  },
  {
   "cell_type": "code",
   "execution_count": 26,
   "id": "52b20c1e-79ed-4c86-a49e-833e42e202d1",
   "metadata": {
    "tags": []
   },
   "outputs": [],
   "source": [
    "# base_folder_file_list"
   ]
  },
  {
   "cell_type": "code",
   "execution_count": 27,
   "id": "8cce39ac-a66f-44dc-993b-30f5bf24bf6c",
   "metadata": {
    "tags": []
   },
   "outputs": [],
   "source": [
    "relevant_month_file_links = []"
   ]
  },
  {
   "cell_type": "code",
   "execution_count": 28,
   "id": "3cf3aab5-a683-41c8-aee3-05654fc352f1",
   "metadata": {
    "tags": []
   },
   "outputs": [],
   "source": [
    "# Iterate through a list of file links\n",
    "for file_link in file_links:\n",
    "    # Iterate through a list containing the current month and the last month\n",
    "    for date in [last_date_of_two_months_ago, last_month, first_date_of_current_month]:\n",
    "        # Extract the date from the file link using a regular expression pattern\n",
    "        file_date = re.search(r'\\d{4}-\\d{2}-\\d{2}', file_link.text).group()\n",
    "        \n",
    "        # Check if the current date (current iteration) is present in the file link text\n",
    "        # Also, verify that the extracted file date is not today's date\n",
    "        if date in file_link.text and file_date != datetime.now().strftime('%Y-%m-%d'):\n",
    "            # If the conditions are met, add the file link to a list of relevant file links\n",
    "            relevant_month_file_links.append(file_link)"
   ]
  },
  {
   "cell_type": "code",
   "execution_count": 29,
   "id": "b0596e70-fa4f-4f02-9ae0-75caabf1040b",
   "metadata": {
    "tags": []
   },
   "outputs": [],
   "source": [
    "# relevant_month_file_links"
   ]
  },
  {
   "cell_type": "code",
   "execution_count": 30,
   "id": "311759f3-abd6-4a5c-be36-20580fc20ffb",
   "metadata": {
    "tags": []
   },
   "outputs": [],
   "source": [
    "# len(relevant_month_file_links)"
   ]
  },
  {
   "cell_type": "code",
   "execution_count": 31,
   "id": "497b058c-f534-4711-9f45-9a43d2645f1e",
   "metadata": {
    "tags": []
   },
   "outputs": [],
   "source": [
    "# Download the data for the current month and the past month\n",
    "\n",
    "# Maximum number of retry attempts\n",
    "max_retries = 5"
   ]
  },
  {
   "cell_type": "code",
   "execution_count": 32,
   "id": "c2467058-c8f2-45d0-a626-711f59920936",
   "metadata": {
    "tags": []
   },
   "outputs": [],
   "source": [
    "# not driver.find_element(by=\"xpath\", value='//*[@id=\"datalogFiles\"]/div[1]/h3')"
   ]
  },
  {
   "cell_type": "code",
   "execution_count": 33,
   "id": "27867d36-4698-434e-b0db-163c71096af3",
   "metadata": {
    "tags": []
   },
   "outputs": [
    {
     "name": "stdout",
     "output_type": "stream",
     "text": [
      "Download process has ended.\n"
     ]
    }
   ],
   "source": [
    "# Download the data for the current month and the past month\n",
    "\n",
    "# Wait\n",
    "time.sleep(5)\n",
    "\n",
    "# Maximum number of retry attempts\n",
    "max_retries = 5\n",
    "\n",
    "retries_1 = 0\n",
    "\n",
    "expected_file_count = len(relevant_month_file_links)\n",
    "\n",
    "while retries_1 < max_retries:\n",
    "    try:\n",
    "        for file_link in relevant_month_file_links:\n",
    "            \n",
    "            retries_2 = 0\n",
    "            if retries_2 < max_retries:\n",
    "                try:\n",
    "                    # Check if the relevant file is in the relevant months, and check if the file has not yet been downloaded\n",
    "                    if file_link.text not in base_folder_file_list:\n",
    "\n",
    "                        # Wait for the element to become clickable\n",
    "                        download_files = WebDriverWait(driver, 10).until(EC.element_to_be_clickable((By.LINK_TEXT, file_link.text)))\n",
    "\n",
    "                        # Click the relevant file for downlaod\n",
    "                        download_files.click()\n",
    "\n",
    "                        # Add file to the downloaded files list\n",
    "                        base_folder_file_list.append(file_link.text)\n",
    "\n",
    "                        # # Exit the loop if the click is successful\n",
    "                        # break\n",
    "                        \n",
    "                except StaleElementReferenceException:\n",
    "                    \n",
    "                    # Wait\n",
    "                    time.sleep(10)\n",
    "                    \n",
    "                    # Wait for the element to become clickable\n",
    "                    download_files = WebDriverWait(driver, 10).until(EC.element_to_be_clickable((By.LINK_TEXT, file_link.text)))\n",
    "\n",
    "                    # Click the relevant file for downlaod\n",
    "                    download_files.click()\n",
    "                    \n",
    "                    if retries_2 == 4:\n",
    "                        print(\"Automation Bot: Internet unstable or website is broken. \\nTry again later...\")\n",
    "                    \n",
    "                    retries_2 += 1\n",
    "                    break\n",
    "                    \n",
    "                    \n",
    "            if retries_2 == 5:\n",
    "                break\n",
    "                \n",
    "        if retries_2 == 5:\n",
    "                break\n",
    "\n",
    "\n",
    "    except StaleElementReferenceException:\n",
    "        retries_1 += 1\n",
    "\n",
    "    except TimeoutException:\n",
    "        print(f\"TimeoutException: Element '{file_link.text}' is not clickable within the specified time.\")\n",
    "        retries_1 += 1\n",
    "        \n",
    "    retries_1 += 1\n",
    "    if retries_1 == 5:\n",
    "        print(\"Download process has ended.\")\n",
    "        break"
   ]
  },
  {
   "cell_type": "code",
   "execution_count": 34,
   "id": "d75556fa-d5d9-4c12-b4a7-3b3024fc46ec",
   "metadata": {
    "tags": []
   },
   "outputs": [],
   "source": [
    "# Pause the execution of the script for 60 seconds.\n",
    "time.sleep(60)\n",
    "\n",
    "# Initialize a variable to count the number of eligible files.\n",
    "file_count = 0\n",
    "\n",
    "# Iterate over the files in the specified base folder.\n",
    "for file in os.listdir(base_folder):\n",
    "    # Iterate over the current and last month.\n",
    "    for date in [last_date_of_two_months_ago, last_month, first_date_of_current_month]:\n",
    "        # Check if the file meets several conditions:\n",
    "        # 1. The date is in the file name.\n",
    "        # 2. The file name starts with the variable prefix.\n",
    "        # 3. The file has a \".csv\" extension.\n",
    "        # 4. The length of the file name is less than 41 characters.\n",
    "        if (date in file) and (file.startswith(prefix)) and (file.endswith(\".csv\")) and (len(file) < 41):\n",
    "            # If all conditions are met, increment the file count.\n",
    "            file_count += 1"
   ]
  },
  {
   "cell_type": "code",
   "execution_count": 35,
   "id": "6c3a5657-a486-4e50-ad3e-92d86d7d849d",
   "metadata": {
    "tags": []
   },
   "outputs": [
    {
     "name": "stdout",
     "output_type": "stream",
     "text": [
      "Automation Bot: You have 33 outstanding files to download\n"
     ]
    }
   ],
   "source": [
    "# Check if the actual file count matches the expected file count.\n",
    "if expected_file_count == file_count:\n",
    "    # If they match, print a message indicating that all files have been downloaded.\n",
    "    print(f\"Automation Bot: All files have been downloaded. \\nA total of {file_count} file(s)\")\n",
    "\n",
    "# If the expected file count is greater than the actual file count, there are outstanding files.\n",
    "elif expected_file_count > file_count:\n",
    "    # Print a message indicating the number of outstanding files to download.\n",
    "    print(f\"Automation Bot: You have {expected_file_count - file_count} outstanding files to download\")\n",
    "\n",
    "# If the expected file count is less than the actual file count, there may be duplicate files.\n",
    "elif expected_file_count < file_count:\n",
    "    # Print a message indicating the possibility of downloading duplicate files.\n",
    "    print(\"Automation Bot: You may have downloaded duplicate file(s), please check manually.\")"
   ]
  },
  {
   "cell_type": "code",
   "execution_count": 36,
   "id": "3a1bae4d-fe18-42a0-9366-915d28dab25f",
   "metadata": {
    "tags": []
   },
   "outputs": [],
   "source": [
    "# Close the WebDriver\n",
    "driver.quit()"
   ]
  },
  {
   "cell_type": "code",
   "execution_count": 37,
   "id": "edc540fc-5569-43d4-ae77-b23684bb16ad",
   "metadata": {
    "tags": []
   },
   "outputs": [],
   "source": [
    "# # Download Data\n",
    "# # In the list of files, Find all the file links that match the file name pattern \"abmfapapa\" and download them\n",
    "# file_links = driver.find_elements(By.PARTIAL_LINK_TEXT, 'abmfapapa')\n",
    "# for link in file_links:\n",
    "#     link.click()"
   ]
  },
  {
   "cell_type": "code",
   "execution_count": null,
   "id": "ccda536d-f48f-406b-87ea-93a6a6ba9df3",
   "metadata": {},
   "outputs": [],
   "source": []
  },
  {
   "cell_type": "markdown",
   "id": "83fd60e9-41ad-4cd3-9db6-5a5a13f8c022",
   "metadata": {
    "tags": []
   },
   "source": [
    "## Pre-process the data"
   ]
  },
  {
   "cell_type": "code",
   "execution_count": 3,
   "id": "a302278e-1e81-43ad-adca-5758dff2eef5",
   "metadata": {
    "tags": []
   },
   "outputs": [],
   "source": [
    "# Define a file pattern using the (*) wildcard to match files that start with the prefix and end in .csv\n",
    "file_pattern = f\"{prefix}*.csv\"\n",
    "\n",
    "# Use the glob module to retrieve a list of file paths that match the specified pattern, in the base folder\n",
    "file_list = glob.glob(os.path.join(base_folder, file_pattern))"
   ]
  },
  {
   "cell_type": "code",
   "execution_count": 4,
   "id": "2e1b35dd-e0d9-440d-ac7c-4b5b87678197",
   "metadata": {
    "tags": []
   },
   "outputs": [],
   "source": [
    "raw_files_count = len(file_list)"
   ]
  },
  {
   "cell_type": "code",
   "execution_count": 5,
   "id": "e2a4a1ae-072f-4859-88b5-17fd1a5c1586",
   "metadata": {
    "tags": []
   },
   "outputs": [
    {
     "data": {
      "text/plain": [
       "31"
      ]
     },
     "execution_count": 5,
     "metadata": {},
     "output_type": "execute_result"
    }
   ],
   "source": [
    "raw_files_count"
   ]
  },
  {
   "cell_type": "markdown",
   "id": "6c16ab06-7409-4cdd-884e-aac87828849e",
   "metadata": {
    "tags": []
   },
   "source": [
    "### Combined all raw data"
   ]
  },
  {
   "cell_type": "code",
   "execution_count": 6,
   "id": "686f3fff-9cb1-4da9-bb45-c6ad3499a796",
   "metadata": {
    "tags": []
   },
   "outputs": [],
   "source": [
    "all_dataframes = []\n",
    "\n",
    "preprocessed_file_count = 0\n",
    "raw_file_name_list = []\n",
    "# Get all files with that start with the prefix and end with .csv in the base folder\n",
    "for file in os.listdir(base_folder ):\n",
    "    if file.startswith(prefix) and file.endswith(\".csv\"):\n",
    "        file_path = os.path.join(base_folder, file)\n",
    "        try:\n",
    "            raw_file_name_list.append(file_path)\n",
    "            preprocessed_file_count += 1\n",
    "            df = pd.read_csv(file_path, on_bad_lines=\"skip\")\n",
    "            all_dataframes.append(df)\n",
    "        except pd.errors.ParserError as e:\n",
    "            print(f\"Error reading file: {file_path} - {e}\")    "
   ]
  },
  {
   "cell_type": "code",
   "execution_count": 7,
   "id": "d783d5e9-4eec-4527-8a16-74538333e0b4",
   "metadata": {
    "tags": []
   },
   "outputs": [],
   "source": [
    "# raw_file_name_list"
   ]
  },
  {
   "cell_type": "code",
   "execution_count": 8,
   "id": "f00ea72c-5bc9-44cc-ad0b-7c7b44ff79f1",
   "metadata": {
    "tags": []
   },
   "outputs": [],
   "source": [
    "# Concatenate all dataframes into one\n",
    "combined_df = pd.concat(all_dataframes, ignore_index=True)\n",
    "\n",
    "# Calculate the last month\n",
    "last_month = (datetime.now() - timedelta(days=30)).strftime('%Y-%m')\n",
    "# last_month = '2023-10'\n",
    "\n",
    "# Convert 'Time' column to datetime type\n",
    "combined_df['Time'] = pd.to_datetime(combined_df['Time'], errors='coerce')\n",
    "\n",
    "# combined_df['Time'] = pd.to_datetime(combined_df['Time']).dt.strftime('%Y-%m-%d %H:%M:00')\n",
    "\n",
    "# Extract year and month from the 'Time' column\n",
    "combined_df['year_month'] = combined_df['Time'].dt.to_period('M')\n",
    "\n",
    "# Filter the dataset for the last month\n",
    "combined_df = combined_df[combined_df['year_month'] == last_month]\n",
    "\n",
    "# Drop the temporary 'year_month' column if you don't need it\n",
    "combined_df = combined_df.drop(columns=['year_month'])\n",
    "\n",
    "# Reset Index\n",
    "combined_df = combined_df.reset_index(drop=True)\n",
    "\n",
    "# Convert the \"Time\" column to datetime objects\n",
    "combined_df[\"Time\"] = pd.to_datetime(combined_df[\"Time\"], errors='coerce')\n",
    "\n",
    "# Check if there is any bot created date value\n",
    "# final_df[final_df[\"Time\"].dt.year == 1970]\n",
    "\n",
    "# Set the combined df as df\n",
    "df = combined_df\n",
    "\n",
    "# Convert the \"Time\" column to datetime objects\n",
    "df[\"Time\"] = pd.to_datetime(df[\"Time\"], errors='coerce')\n",
    "\n",
    "df[\"Time\"] = df[\"Time\"].dt.strftime(\"%Y-%m-%d %H:%M:00\")\n",
    "\n",
    "df = df.drop_duplicates(['Time'], keep=\"first\")\n",
    "\n",
    "data = df.copy()"
   ]
  },
  {
   "cell_type": "code",
   "execution_count": 9,
   "id": "3ccb94be-ddd7-42fb-b075-50bf7f8cfef2",
   "metadata": {},
   "outputs": [],
   "source": [
    "# data.Time"
   ]
  },
  {
   "cell_type": "code",
   "execution_count": 10,
   "id": "3dc64611-0741-4898-8b21-8f1ce8fc6201",
   "metadata": {
    "tags": []
   },
   "outputs": [
    {
     "data": {
      "text/html": [
       "<div>\n",
       "<style scoped>\n",
       "    .dataframe tbody tr th:only-of-type {\n",
       "        vertical-align: middle;\n",
       "    }\n",
       "\n",
       "    .dataframe tbody tr th {\n",
       "        vertical-align: top;\n",
       "    }\n",
       "\n",
       "    .dataframe thead th {\n",
       "        text-align: right;\n",
       "    }\n",
       "</style>\n",
       "<table border=\"1\" class=\"dataframe\">\n",
       "  <thead>\n",
       "    <tr style=\"text-align: right;\">\n",
       "      <th></th>\n",
       "      <th>Time</th>\n",
       "      <th>Freq_Hz</th>\n",
       "      <th>Va_V</th>\n",
       "      <th>Vb_V</th>\n",
       "      <th>Vc_V</th>\n",
       "      <th>Vnavg_V</th>\n",
       "      <th>Vab_V</th>\n",
       "      <th>Vbc_V</th>\n",
       "      <th>Vca_V</th>\n",
       "      <th>Vlavg_V</th>\n",
       "      <th>...</th>\n",
       "      <th>DMD_Qs3_kvar</th>\n",
       "      <th>DMD_Ss3_kVA</th>\n",
       "      <th>DI1</th>\n",
       "      <th>DI2</th>\n",
       "      <th>DI3</th>\n",
       "      <th>DI4</th>\n",
       "      <th>DI5</th>\n",
       "      <th>DI6</th>\n",
       "      <th>DI7</th>\n",
       "      <th>DI8</th>\n",
       "    </tr>\n",
       "  </thead>\n",
       "  <tbody>\n",
       "    <tr>\n",
       "      <th>0</th>\n",
       "      <td>2024-10-01 00:00:00</td>\n",
       "      <td>50.623</td>\n",
       "      <td>209.688</td>\n",
       "      <td>208.371</td>\n",
       "      <td>208.575</td>\n",
       "      <td>208.878</td>\n",
       "      <td>0.0</td>\n",
       "      <td>0.0</td>\n",
       "      <td>0.0</td>\n",
       "      <td>0.0</td>\n",
       "      <td>...</td>\n",
       "      <td>0.0</td>\n",
       "      <td>0.0</td>\n",
       "      <td>0.0</td>\n",
       "      <td>0.0</td>\n",
       "      <td>0.0</td>\n",
       "      <td>0.0</td>\n",
       "      <td>0.0</td>\n",
       "      <td>0.0</td>\n",
       "      <td>0.0</td>\n",
       "      <td>0.0</td>\n",
       "    </tr>\n",
       "    <tr>\n",
       "      <th>1</th>\n",
       "      <td>2024-10-01 00:01:00</td>\n",
       "      <td>50.633</td>\n",
       "      <td>209.847</td>\n",
       "      <td>208.571</td>\n",
       "      <td>208.781</td>\n",
       "      <td>209.067</td>\n",
       "      <td>0.0</td>\n",
       "      <td>0.0</td>\n",
       "      <td>0.0</td>\n",
       "      <td>0.0</td>\n",
       "      <td>...</td>\n",
       "      <td>0.0</td>\n",
       "      <td>0.0</td>\n",
       "      <td>0.0</td>\n",
       "      <td>0.0</td>\n",
       "      <td>0.0</td>\n",
       "      <td>0.0</td>\n",
       "      <td>0.0</td>\n",
       "      <td>0.0</td>\n",
       "      <td>0.0</td>\n",
       "      <td>0.0</td>\n",
       "    </tr>\n",
       "    <tr>\n",
       "      <th>2</th>\n",
       "      <td>2024-10-01 00:02:00</td>\n",
       "      <td>50.673</td>\n",
       "      <td>210.169</td>\n",
       "      <td>208.869</td>\n",
       "      <td>209.049</td>\n",
       "      <td>209.362</td>\n",
       "      <td>0.0</td>\n",
       "      <td>0.0</td>\n",
       "      <td>0.0</td>\n",
       "      <td>0.0</td>\n",
       "      <td>...</td>\n",
       "      <td>0.0</td>\n",
       "      <td>0.0</td>\n",
       "      <td>0.0</td>\n",
       "      <td>0.0</td>\n",
       "      <td>0.0</td>\n",
       "      <td>0.0</td>\n",
       "      <td>0.0</td>\n",
       "      <td>0.0</td>\n",
       "      <td>0.0</td>\n",
       "      <td>0.0</td>\n",
       "    </tr>\n",
       "    <tr>\n",
       "      <th>3</th>\n",
       "      <td>2024-10-01 00:03:00</td>\n",
       "      <td>50.713</td>\n",
       "      <td>210.429</td>\n",
       "      <td>209.017</td>\n",
       "      <td>209.212</td>\n",
       "      <td>209.553</td>\n",
       "      <td>0.0</td>\n",
       "      <td>0.0</td>\n",
       "      <td>0.0</td>\n",
       "      <td>0.0</td>\n",
       "      <td>...</td>\n",
       "      <td>0.0</td>\n",
       "      <td>0.0</td>\n",
       "      <td>0.0</td>\n",
       "      <td>0.0</td>\n",
       "      <td>0.0</td>\n",
       "      <td>0.0</td>\n",
       "      <td>0.0</td>\n",
       "      <td>0.0</td>\n",
       "      <td>0.0</td>\n",
       "      <td>0.0</td>\n",
       "    </tr>\n",
       "    <tr>\n",
       "      <th>4</th>\n",
       "      <td>2024-10-01 00:04:00</td>\n",
       "      <td>50.683</td>\n",
       "      <td>210.213</td>\n",
       "      <td>208.805</td>\n",
       "      <td>208.969</td>\n",
       "      <td>209.329</td>\n",
       "      <td>0.0</td>\n",
       "      <td>0.0</td>\n",
       "      <td>0.0</td>\n",
       "      <td>0.0</td>\n",
       "      <td>...</td>\n",
       "      <td>0.0</td>\n",
       "      <td>0.0</td>\n",
       "      <td>0.0</td>\n",
       "      <td>0.0</td>\n",
       "      <td>0.0</td>\n",
       "      <td>0.0</td>\n",
       "      <td>0.0</td>\n",
       "      <td>0.0</td>\n",
       "      <td>0.0</td>\n",
       "      <td>0.0</td>\n",
       "    </tr>\n",
       "    <tr>\n",
       "      <th>...</th>\n",
       "      <td>...</td>\n",
       "      <td>...</td>\n",
       "      <td>...</td>\n",
       "      <td>...</td>\n",
       "      <td>...</td>\n",
       "      <td>...</td>\n",
       "      <td>...</td>\n",
       "      <td>...</td>\n",
       "      <td>...</td>\n",
       "      <td>...</td>\n",
       "      <td>...</td>\n",
       "      <td>...</td>\n",
       "      <td>...</td>\n",
       "      <td>...</td>\n",
       "      <td>...</td>\n",
       "      <td>...</td>\n",
       "      <td>...</td>\n",
       "      <td>...</td>\n",
       "      <td>...</td>\n",
       "      <td>...</td>\n",
       "      <td>...</td>\n",
       "    </tr>\n",
       "    <tr>\n",
       "      <th>32049</th>\n",
       "      <td>2024-10-31 17:32:00</td>\n",
       "      <td>50.905</td>\n",
       "      <td>204.694</td>\n",
       "      <td>203.707</td>\n",
       "      <td>203.927</td>\n",
       "      <td>204.109</td>\n",
       "      <td>0.0</td>\n",
       "      <td>0.0</td>\n",
       "      <td>0.0</td>\n",
       "      <td>0.0</td>\n",
       "      <td>...</td>\n",
       "      <td>0.0</td>\n",
       "      <td>0.0</td>\n",
       "      <td>0.0</td>\n",
       "      <td>0.0</td>\n",
       "      <td>0.0</td>\n",
       "      <td>0.0</td>\n",
       "      <td>0.0</td>\n",
       "      <td>0.0</td>\n",
       "      <td>0.0</td>\n",
       "      <td>0.0</td>\n",
       "    </tr>\n",
       "    <tr>\n",
       "      <th>32050</th>\n",
       "      <td>2024-10-31 17:33:00</td>\n",
       "      <td>50.945</td>\n",
       "      <td>204.362</td>\n",
       "      <td>204.086</td>\n",
       "      <td>204.094</td>\n",
       "      <td>204.181</td>\n",
       "      <td>0.0</td>\n",
       "      <td>0.0</td>\n",
       "      <td>0.0</td>\n",
       "      <td>0.0</td>\n",
       "      <td>...</td>\n",
       "      <td>0.0</td>\n",
       "      <td>0.0</td>\n",
       "      <td>0.0</td>\n",
       "      <td>0.0</td>\n",
       "      <td>0.0</td>\n",
       "      <td>0.0</td>\n",
       "      <td>0.0</td>\n",
       "      <td>0.0</td>\n",
       "      <td>0.0</td>\n",
       "      <td>0.0</td>\n",
       "    </tr>\n",
       "    <tr>\n",
       "      <th>32051</th>\n",
       "      <td>2024-10-31 17:34:00</td>\n",
       "      <td>50.955</td>\n",
       "      <td>204.373</td>\n",
       "      <td>204.182</td>\n",
       "      <td>204.082</td>\n",
       "      <td>204.212</td>\n",
       "      <td>0.0</td>\n",
       "      <td>0.0</td>\n",
       "      <td>0.0</td>\n",
       "      <td>0.0</td>\n",
       "      <td>...</td>\n",
       "      <td>0.0</td>\n",
       "      <td>0.0</td>\n",
       "      <td>0.0</td>\n",
       "      <td>0.0</td>\n",
       "      <td>0.0</td>\n",
       "      <td>0.0</td>\n",
       "      <td>0.0</td>\n",
       "      <td>0.0</td>\n",
       "      <td>0.0</td>\n",
       "      <td>0.0</td>\n",
       "    </tr>\n",
       "    <tr>\n",
       "      <th>32052</th>\n",
       "      <td>2024-10-31 17:35:00</td>\n",
       "      <td>50.915</td>\n",
       "      <td>204.297</td>\n",
       "      <td>203.991</td>\n",
       "      <td>203.995</td>\n",
       "      <td>204.095</td>\n",
       "      <td>0.0</td>\n",
       "      <td>0.0</td>\n",
       "      <td>0.0</td>\n",
       "      <td>0.0</td>\n",
       "      <td>...</td>\n",
       "      <td>0.0</td>\n",
       "      <td>0.0</td>\n",
       "      <td>0.0</td>\n",
       "      <td>0.0</td>\n",
       "      <td>0.0</td>\n",
       "      <td>0.0</td>\n",
       "      <td>0.0</td>\n",
       "      <td>0.0</td>\n",
       "      <td>0.0</td>\n",
       "      <td>0.0</td>\n",
       "    </tr>\n",
       "    <tr>\n",
       "      <th>32053</th>\n",
       "      <td>2024-10-31 17:36:00</td>\n",
       "      <td>50.854</td>\n",
       "      <td>204.435</td>\n",
       "      <td>204.180</td>\n",
       "      <td>204.072</td>\n",
       "      <td>204.229</td>\n",
       "      <td>0.0</td>\n",
       "      <td>0.0</td>\n",
       "      <td>0.0</td>\n",
       "      <td>0.0</td>\n",
       "      <td>...</td>\n",
       "      <td>0.0</td>\n",
       "      <td>0.0</td>\n",
       "      <td>0.0</td>\n",
       "      <td>0.0</td>\n",
       "      <td>0.0</td>\n",
       "      <td>0.0</td>\n",
       "      <td>0.0</td>\n",
       "      <td>0.0</td>\n",
       "      <td>0.0</td>\n",
       "      <td>0.0</td>\n",
       "    </tr>\n",
       "  </tbody>\n",
       "</table>\n",
       "<p>30961 rows × 264 columns</p>\n",
       "</div>"
      ],
      "text/plain": [
       "                      Time  Freq_Hz     Va_V     Vb_V     Vc_V  Vnavg_V  \\\n",
       "0      2024-10-01 00:00:00   50.623  209.688  208.371  208.575  208.878   \n",
       "1      2024-10-01 00:01:00   50.633  209.847  208.571  208.781  209.067   \n",
       "2      2024-10-01 00:02:00   50.673  210.169  208.869  209.049  209.362   \n",
       "3      2024-10-01 00:03:00   50.713  210.429  209.017  209.212  209.553   \n",
       "4      2024-10-01 00:04:00   50.683  210.213  208.805  208.969  209.329   \n",
       "...                    ...      ...      ...      ...      ...      ...   \n",
       "32049  2024-10-31 17:32:00   50.905  204.694  203.707  203.927  204.109   \n",
       "32050  2024-10-31 17:33:00   50.945  204.362  204.086  204.094  204.181   \n",
       "32051  2024-10-31 17:34:00   50.955  204.373  204.182  204.082  204.212   \n",
       "32052  2024-10-31 17:35:00   50.915  204.297  203.991  203.995  204.095   \n",
       "32053  2024-10-31 17:36:00   50.854  204.435  204.180  204.072  204.229   \n",
       "\n",
       "       Vab_V  Vbc_V  Vca_V  Vlavg_V  ...  DMD_Qs3_kvar  DMD_Ss3_kVA  DI1  DI2  \\\n",
       "0        0.0    0.0    0.0      0.0  ...           0.0          0.0  0.0  0.0   \n",
       "1        0.0    0.0    0.0      0.0  ...           0.0          0.0  0.0  0.0   \n",
       "2        0.0    0.0    0.0      0.0  ...           0.0          0.0  0.0  0.0   \n",
       "3        0.0    0.0    0.0      0.0  ...           0.0          0.0  0.0  0.0   \n",
       "4        0.0    0.0    0.0      0.0  ...           0.0          0.0  0.0  0.0   \n",
       "...      ...    ...    ...      ...  ...           ...          ...  ...  ...   \n",
       "32049    0.0    0.0    0.0      0.0  ...           0.0          0.0  0.0  0.0   \n",
       "32050    0.0    0.0    0.0      0.0  ...           0.0          0.0  0.0  0.0   \n",
       "32051    0.0    0.0    0.0      0.0  ...           0.0          0.0  0.0  0.0   \n",
       "32052    0.0    0.0    0.0      0.0  ...           0.0          0.0  0.0  0.0   \n",
       "32053    0.0    0.0    0.0      0.0  ...           0.0          0.0  0.0  0.0   \n",
       "\n",
       "       DI3  DI4  DI5  DI6  DI7  DI8  \n",
       "0      0.0  0.0  0.0  0.0  0.0  0.0  \n",
       "1      0.0  0.0  0.0  0.0  0.0  0.0  \n",
       "2      0.0  0.0  0.0  0.0  0.0  0.0  \n",
       "3      0.0  0.0  0.0  0.0  0.0  0.0  \n",
       "4      0.0  0.0  0.0  0.0  0.0  0.0  \n",
       "...    ...  ...  ...  ...  ...  ...  \n",
       "32049  0.0  0.0  0.0  0.0  0.0  0.0  \n",
       "32050  0.0  0.0  0.0  0.0  0.0  0.0  \n",
       "32051  0.0  0.0  0.0  0.0  0.0  0.0  \n",
       "32052  0.0  0.0  0.0  0.0  0.0  0.0  \n",
       "32053  0.0  0.0  0.0  0.0  0.0  0.0  \n",
       "\n",
       "[30961 rows x 264 columns]"
      ]
     },
     "execution_count": 10,
     "metadata": {},
     "output_type": "execute_result"
    }
   ],
   "source": [
    "data"
   ]
  },
  {
   "cell_type": "markdown",
   "id": "f6ee9844-8c7a-4577-9c04-bc30273e0011",
   "metadata": {
    "tags": []
   },
   "source": [
    "### Pre-process the raw data"
   ]
  },
  {
   "cell_type": "code",
   "execution_count": 11,
   "id": "085699e0-45ed-47fb-946b-56577f1a1319",
   "metadata": {
    "tags": []
   },
   "outputs": [
    {
     "name": "stdout",
     "output_type": "stream",
     "text": [
      "12443\n",
      "3604\n",
      "34565\n",
      "(34565, 111)\n"
     ]
    }
   ],
   "source": [
    "# Process each file using the relevant functions\n",
    "# data = pd.read_csv(file_path, on_bad_lines=\"skip\")\n",
    "# cleaned_data = clean_data(data=data, site_value=site_value, start_time_value=start_time_value, end_time_value=end_time_value,\n",
    "#                           minus_days_value=minus_days_value, holiday_dates=holiday_dates)\n",
    "\n",
    "cleaned_data = get_csv_files_HO(data, site_value=site_value, start_time_value=start_time_value, end_time_value=end_time_value, minus_days_value=minus_days_value, holiday_value=holiday_dates)"
   ]
  },
  {
   "cell_type": "code",
   "execution_count": 12,
   "id": "1f29e1e5-4b2f-48ed-9313-9beed58003df",
   "metadata": {
    "tags": []
   },
   "outputs": [
    {
     "data": {
      "text/html": [
       "<div>\n",
       "<style scoped>\n",
       "    .dataframe tbody tr th:only-of-type {\n",
       "        vertical-align: middle;\n",
       "    }\n",
       "\n",
       "    .dataframe tbody tr th {\n",
       "        vertical-align: top;\n",
       "    }\n",
       "\n",
       "    .dataframe thead th {\n",
       "        text-align: right;\n",
       "    }\n",
       "</style>\n",
       "<table border=\"1\" class=\"dataframe\">\n",
       "  <thead>\n",
       "    <tr style=\"text-align: right;\">\n",
       "      <th></th>\n",
       "      <th>Time</th>\n",
       "      <th>Freq_Hz</th>\n",
       "      <th>Va_V</th>\n",
       "      <th>Vb_V</th>\n",
       "      <th>Vc_V</th>\n",
       "      <th>Vnavg_V</th>\n",
       "      <th>Vab_V</th>\n",
       "      <th>Vbc_V</th>\n",
       "      <th>Vca_V</th>\n",
       "      <th>Vlavg_V</th>\n",
       "      <th>...</th>\n",
       "      <th>gen2_litres_model</th>\n",
       "      <th>diesel_prices</th>\n",
       "      <th>grid_tariff</th>\n",
       "      <th>daily_price_of_used</th>\n",
       "      <th>starting_Litres</th>\n",
       "      <th>reported_liter</th>\n",
       "      <th>day</th>\n",
       "      <th>month</th>\n",
       "      <th>year</th>\n",
       "      <th>missing</th>\n",
       "    </tr>\n",
       "  </thead>\n",
       "  <tbody>\n",
       "    <tr>\n",
       "      <th>0</th>\n",
       "      <td>2024-10-01 00:00:00</td>\n",
       "      <td>50.623</td>\n",
       "      <td>209.688</td>\n",
       "      <td>208.371</td>\n",
       "      <td>208.575</td>\n",
       "      <td>208.878</td>\n",
       "      <td>0.0</td>\n",
       "      <td>0.0</td>\n",
       "      <td>0.0</td>\n",
       "      <td>0.0</td>\n",
       "      <td>...</td>\n",
       "      <td>0</td>\n",
       "      <td>1074</td>\n",
       "      <td>69.75</td>\n",
       "      <td>0</td>\n",
       "      <td>0</td>\n",
       "      <td>0</td>\n",
       "      <td>Tuesday</td>\n",
       "      <td>OCT</td>\n",
       "      <td>2024</td>\n",
       "      <td>0</td>\n",
       "    </tr>\n",
       "    <tr>\n",
       "      <th>1</th>\n",
       "      <td>2024-10-01 00:01:00</td>\n",
       "      <td>50.633</td>\n",
       "      <td>209.847</td>\n",
       "      <td>208.571</td>\n",
       "      <td>208.781</td>\n",
       "      <td>209.067</td>\n",
       "      <td>0.0</td>\n",
       "      <td>0.0</td>\n",
       "      <td>0.0</td>\n",
       "      <td>0.0</td>\n",
       "      <td>...</td>\n",
       "      <td>0</td>\n",
       "      <td>1074</td>\n",
       "      <td>69.75</td>\n",
       "      <td>0</td>\n",
       "      <td>0</td>\n",
       "      <td>0</td>\n",
       "      <td>Tuesday</td>\n",
       "      <td>OCT</td>\n",
       "      <td>2024</td>\n",
       "      <td>0</td>\n",
       "    </tr>\n",
       "    <tr>\n",
       "      <th>2</th>\n",
       "      <td>2024-10-01 00:02:00</td>\n",
       "      <td>50.673</td>\n",
       "      <td>210.169</td>\n",
       "      <td>208.869</td>\n",
       "      <td>209.049</td>\n",
       "      <td>209.362</td>\n",
       "      <td>0.0</td>\n",
       "      <td>0.0</td>\n",
       "      <td>0.0</td>\n",
       "      <td>0.0</td>\n",
       "      <td>...</td>\n",
       "      <td>0</td>\n",
       "      <td>1074</td>\n",
       "      <td>69.75</td>\n",
       "      <td>0</td>\n",
       "      <td>0</td>\n",
       "      <td>0</td>\n",
       "      <td>Tuesday</td>\n",
       "      <td>OCT</td>\n",
       "      <td>2024</td>\n",
       "      <td>0</td>\n",
       "    </tr>\n",
       "    <tr>\n",
       "      <th>3</th>\n",
       "      <td>2024-10-01 00:03:00</td>\n",
       "      <td>50.713</td>\n",
       "      <td>210.429</td>\n",
       "      <td>209.017</td>\n",
       "      <td>209.212</td>\n",
       "      <td>209.553</td>\n",
       "      <td>0.0</td>\n",
       "      <td>0.0</td>\n",
       "      <td>0.0</td>\n",
       "      <td>0.0</td>\n",
       "      <td>...</td>\n",
       "      <td>0</td>\n",
       "      <td>1074</td>\n",
       "      <td>69.75</td>\n",
       "      <td>0</td>\n",
       "      <td>0</td>\n",
       "      <td>0</td>\n",
       "      <td>Tuesday</td>\n",
       "      <td>OCT</td>\n",
       "      <td>2024</td>\n",
       "      <td>0</td>\n",
       "    </tr>\n",
       "    <tr>\n",
       "      <th>4</th>\n",
       "      <td>2024-10-01 00:04:00</td>\n",
       "      <td>50.683</td>\n",
       "      <td>210.213</td>\n",
       "      <td>208.805</td>\n",
       "      <td>208.969</td>\n",
       "      <td>209.329</td>\n",
       "      <td>0.0</td>\n",
       "      <td>0.0</td>\n",
       "      <td>0.0</td>\n",
       "      <td>0.0</td>\n",
       "      <td>...</td>\n",
       "      <td>0</td>\n",
       "      <td>1074</td>\n",
       "      <td>69.75</td>\n",
       "      <td>0</td>\n",
       "      <td>0</td>\n",
       "      <td>0</td>\n",
       "      <td>Tuesday</td>\n",
       "      <td>OCT</td>\n",
       "      <td>2024</td>\n",
       "      <td>0</td>\n",
       "    </tr>\n",
       "    <tr>\n",
       "      <th>...</th>\n",
       "      <td>...</td>\n",
       "      <td>...</td>\n",
       "      <td>...</td>\n",
       "      <td>...</td>\n",
       "      <td>...</td>\n",
       "      <td>...</td>\n",
       "      <td>...</td>\n",
       "      <td>...</td>\n",
       "      <td>...</td>\n",
       "      <td>...</td>\n",
       "      <td>...</td>\n",
       "      <td>...</td>\n",
       "      <td>...</td>\n",
       "      <td>...</td>\n",
       "      <td>...</td>\n",
       "      <td>...</td>\n",
       "      <td>...</td>\n",
       "      <td>...</td>\n",
       "      <td>...</td>\n",
       "      <td>...</td>\n",
       "      <td>...</td>\n",
       "    </tr>\n",
       "    <tr>\n",
       "      <th>34560</th>\n",
       "      <td>2024-10-31 17:32:00</td>\n",
       "      <td>50.905</td>\n",
       "      <td>204.694</td>\n",
       "      <td>203.707</td>\n",
       "      <td>203.927</td>\n",
       "      <td>204.109</td>\n",
       "      <td>0.0</td>\n",
       "      <td>0.0</td>\n",
       "      <td>0.0</td>\n",
       "      <td>0.0</td>\n",
       "      <td>...</td>\n",
       "      <td>0</td>\n",
       "      <td>1074</td>\n",
       "      <td>69.75</td>\n",
       "      <td>0</td>\n",
       "      <td>0</td>\n",
       "      <td>0</td>\n",
       "      <td>Thursday</td>\n",
       "      <td>OCT</td>\n",
       "      <td>2024</td>\n",
       "      <td>0</td>\n",
       "    </tr>\n",
       "    <tr>\n",
       "      <th>34561</th>\n",
       "      <td>2024-10-31 17:33:00</td>\n",
       "      <td>50.945</td>\n",
       "      <td>204.362</td>\n",
       "      <td>204.086</td>\n",
       "      <td>204.094</td>\n",
       "      <td>204.181</td>\n",
       "      <td>0.0</td>\n",
       "      <td>0.0</td>\n",
       "      <td>0.0</td>\n",
       "      <td>0.0</td>\n",
       "      <td>...</td>\n",
       "      <td>0</td>\n",
       "      <td>1074</td>\n",
       "      <td>69.75</td>\n",
       "      <td>0</td>\n",
       "      <td>0</td>\n",
       "      <td>0</td>\n",
       "      <td>Thursday</td>\n",
       "      <td>OCT</td>\n",
       "      <td>2024</td>\n",
       "      <td>0</td>\n",
       "    </tr>\n",
       "    <tr>\n",
       "      <th>34562</th>\n",
       "      <td>2024-10-31 17:34:00</td>\n",
       "      <td>50.955</td>\n",
       "      <td>204.373</td>\n",
       "      <td>204.182</td>\n",
       "      <td>204.082</td>\n",
       "      <td>204.212</td>\n",
       "      <td>0.0</td>\n",
       "      <td>0.0</td>\n",
       "      <td>0.0</td>\n",
       "      <td>0.0</td>\n",
       "      <td>...</td>\n",
       "      <td>0</td>\n",
       "      <td>1074</td>\n",
       "      <td>69.75</td>\n",
       "      <td>0</td>\n",
       "      <td>0</td>\n",
       "      <td>0</td>\n",
       "      <td>Thursday</td>\n",
       "      <td>OCT</td>\n",
       "      <td>2024</td>\n",
       "      <td>0</td>\n",
       "    </tr>\n",
       "    <tr>\n",
       "      <th>34563</th>\n",
       "      <td>2024-10-31 17:35:00</td>\n",
       "      <td>50.915</td>\n",
       "      <td>204.297</td>\n",
       "      <td>203.991</td>\n",
       "      <td>203.995</td>\n",
       "      <td>204.095</td>\n",
       "      <td>0.0</td>\n",
       "      <td>0.0</td>\n",
       "      <td>0.0</td>\n",
       "      <td>0.0</td>\n",
       "      <td>...</td>\n",
       "      <td>0</td>\n",
       "      <td>1074</td>\n",
       "      <td>69.75</td>\n",
       "      <td>0</td>\n",
       "      <td>0</td>\n",
       "      <td>0</td>\n",
       "      <td>Thursday</td>\n",
       "      <td>OCT</td>\n",
       "      <td>2024</td>\n",
       "      <td>0</td>\n",
       "    </tr>\n",
       "    <tr>\n",
       "      <th>34564</th>\n",
       "      <td>2024-10-31 17:36:00</td>\n",
       "      <td>50.854</td>\n",
       "      <td>204.435</td>\n",
       "      <td>204.180</td>\n",
       "      <td>204.072</td>\n",
       "      <td>204.229</td>\n",
       "      <td>0.0</td>\n",
       "      <td>0.0</td>\n",
       "      <td>0.0</td>\n",
       "      <td>0.0</td>\n",
       "      <td>...</td>\n",
       "      <td>0</td>\n",
       "      <td>1074</td>\n",
       "      <td>69.75</td>\n",
       "      <td>0</td>\n",
       "      <td>0</td>\n",
       "      <td>0</td>\n",
       "      <td>Thursday</td>\n",
       "      <td>OCT</td>\n",
       "      <td>2024</td>\n",
       "      <td>0</td>\n",
       "    </tr>\n",
       "  </tbody>\n",
       "</table>\n",
       "<p>34565 rows × 111 columns</p>\n",
       "</div>"
      ],
      "text/plain": [
       "                     Time  Freq_Hz     Va_V     Vb_V     Vc_V  Vnavg_V  Vab_V  \\\n",
       "0     2024-10-01 00:00:00   50.623  209.688  208.371  208.575  208.878    0.0   \n",
       "1     2024-10-01 00:01:00   50.633  209.847  208.571  208.781  209.067    0.0   \n",
       "2     2024-10-01 00:02:00   50.673  210.169  208.869  209.049  209.362    0.0   \n",
       "3     2024-10-01 00:03:00   50.713  210.429  209.017  209.212  209.553    0.0   \n",
       "4     2024-10-01 00:04:00   50.683  210.213  208.805  208.969  209.329    0.0   \n",
       "...                   ...      ...      ...      ...      ...      ...    ...   \n",
       "34560 2024-10-31 17:32:00   50.905  204.694  203.707  203.927  204.109    0.0   \n",
       "34561 2024-10-31 17:33:00   50.945  204.362  204.086  204.094  204.181    0.0   \n",
       "34562 2024-10-31 17:34:00   50.955  204.373  204.182  204.082  204.212    0.0   \n",
       "34563 2024-10-31 17:35:00   50.915  204.297  203.991  203.995  204.095    0.0   \n",
       "34564 2024-10-31 17:36:00   50.854  204.435  204.180  204.072  204.229    0.0   \n",
       "\n",
       "       Vbc_V  Vca_V  Vlavg_V  ...  gen2_litres_model  diesel_prices  \\\n",
       "0        0.0    0.0      0.0  ...                  0           1074   \n",
       "1        0.0    0.0      0.0  ...                  0           1074   \n",
       "2        0.0    0.0      0.0  ...                  0           1074   \n",
       "3        0.0    0.0      0.0  ...                  0           1074   \n",
       "4        0.0    0.0      0.0  ...                  0           1074   \n",
       "...      ...    ...      ...  ...                ...            ...   \n",
       "34560    0.0    0.0      0.0  ...                  0           1074   \n",
       "34561    0.0    0.0      0.0  ...                  0           1074   \n",
       "34562    0.0    0.0      0.0  ...                  0           1074   \n",
       "34563    0.0    0.0      0.0  ...                  0           1074   \n",
       "34564    0.0    0.0      0.0  ...                  0           1074   \n",
       "\n",
       "       grid_tariff  daily_price_of_used  starting_Litres  reported_liter  \\\n",
       "0            69.75                    0                0               0   \n",
       "1            69.75                    0                0               0   \n",
       "2            69.75                    0                0               0   \n",
       "3            69.75                    0                0               0   \n",
       "4            69.75                    0                0               0   \n",
       "...            ...                  ...              ...             ...   \n",
       "34560        69.75                    0                0               0   \n",
       "34561        69.75                    0                0               0   \n",
       "34562        69.75                    0                0               0   \n",
       "34563        69.75                    0                0               0   \n",
       "34564        69.75                    0                0               0   \n",
       "\n",
       "            day  month  year  missing  \n",
       "0       Tuesday    OCT  2024        0  \n",
       "1       Tuesday    OCT  2024        0  \n",
       "2       Tuesday    OCT  2024        0  \n",
       "3       Tuesday    OCT  2024        0  \n",
       "4       Tuesday    OCT  2024        0  \n",
       "...         ...    ...   ...      ...  \n",
       "34560  Thursday    OCT  2024        0  \n",
       "34561  Thursday    OCT  2024        0  \n",
       "34562  Thursday    OCT  2024        0  \n",
       "34563  Thursday    OCT  2024        0  \n",
       "34564  Thursday    OCT  2024        0  \n",
       "\n",
       "[34565 rows x 111 columns]"
      ]
     },
     "execution_count": 12,
     "metadata": {},
     "output_type": "execute_result"
    }
   ],
   "source": [
    "cleaned_data"
   ]
  },
  {
   "cell_type": "code",
   "execution_count": 13,
   "id": "87f16e77-5649-4968-8b60-093485707a54",
   "metadata": {
    "tags": []
   },
   "outputs": [],
   "source": [
    "# cleaned_data"
   ]
  },
  {
   "cell_type": "code",
   "execution_count": 14,
   "id": "3f855108-e9d8-4b73-a360-231fe59cdcfc",
   "metadata": {
    "tags": []
   },
   "outputs": [],
   "source": [
    "# Create if not exist folder and save combined raw data for the month\n",
    "# Convert last_month to a datetime object\n",
    "# last_month = '2023-10'\n",
    "# last_month = datetime.strptime(last_month, '%Y-%m')\n",
    "last_month = (datetime.now() - timedelta(days=30))\n",
    "# .strftime('%Y-%m')\n",
    "\n",
    "# Extract year and month from the last_month variable\n",
    "year = last_month.strftime('%Y')\n",
    "month_name = last_month.strftime('%B')\n",
    "\n",
    "# Create the abmf_raw_data folder if it doesn't exist\n",
    "abmf_raw_data_folder = os.path.join(base_folder, 'abmf_raw_data')\n",
    "os.makedirs(abmf_raw_data_folder, exist_ok=True)\n",
    "\n",
    "# Create the year folder inside abmf_raw_data\n",
    "year_folder = os.path.join(abmf_raw_data_folder, year)\n",
    "os.makedirs(year_folder, exist_ok=True)\n",
    "\n",
    "# Create the month folder inside the year folder\n",
    "month_folder = os.path.join(year_folder, month_name)\n",
    "os.makedirs(month_folder, exist_ok=True)\n",
    "\n",
    "# Save the raw DataFrame in the month folder\n",
    "df.to_csv(os.path.join(month_folder, f'{month_name}_{year}_{site_value}_raw_data.csv'), index=False)"
   ]
  },
  {
   "cell_type": "code",
   "execution_count": 15,
   "id": "3b1bc5ce-b7f0-4165-a154-43917dd2a860",
   "metadata": {
    "tags": []
   },
   "outputs": [],
   "source": [
    "# Create the \"Apapa\" folder if it doesn't exist\n",
    "site_folder = os.path.join(base_folder, site_folder_name)\n",
    "\n",
    "# Create the year folder inside abmf_raw_data\n",
    "year_folder = os.path.join(site_folder, year)\n",
    "os.makedirs(year_folder, exist_ok=True)\n",
    "\n",
    "# Create the month folder inside the year folder\n",
    "month_folder = os.path.join(year_folder, month_name)\n",
    "os.makedirs(month_folder, exist_ok=True)\n",
    "\n",
    "# Save the cleaned_data in the appriopriate directory\n",
    "cleaned_data.to_csv(os.path.join(month_folder, f'{month_name}_{year}_{site_value}_cleaned_data.csv'), index=False)"
   ]
  },
  {
   "cell_type": "code",
   "execution_count": 16,
   "id": "7a2cb983-37ed-4abe-8dfb-479212f3bbd9",
   "metadata": {
    "tags": []
   },
   "outputs": [
    {
     "name": "stdout",
     "output_type": "stream",
     "text": [
      "All files have been preprocessed. \n",
      "Automation Bot: A total of 31 file(s) has been preprocessed.\n"
     ]
    }
   ],
   "source": [
    "if raw_files_count == preprocessed_file_count:\n",
    "    print(f\"All files have been preprocessed. \\nAutomation Bot: A total of {preprocessed_file_count} file(s) has been preprocessed.\")\n",
    "else:\n",
    "    print(\"You have outstanding data to preprocess\")"
   ]
  },
  {
   "cell_type": "code",
   "execution_count": 17,
   "id": "c2482044-ab7e-46e8-a630-fdb8b1ea03c6",
   "metadata": {
    "scrolled": true,
    "tags": []
   },
   "outputs": [
    {
     "name": "stdout",
     "output_type": "stream",
     "text": [
      "File deleted: C:/Users/Rhoda/Desktop/abmf_data\\abmfho-2024-09-30T18-58-00-1day.csv\n",
      "File deleted: C:/Users/Rhoda/Desktop/abmf_data\\abmfho-2024-10-01T18-58-00-1day.csv\n",
      "File deleted: C:/Users/Rhoda/Desktop/abmf_data\\abmfho-2024-10-02T18-58-00-1day.csv\n",
      "File deleted: C:/Users/Rhoda/Desktop/abmf_data\\abmfho-2024-10-03T18-58-00-1day.csv\n",
      "File deleted: C:/Users/Rhoda/Desktop/abmf_data\\abmfho-2024-10-04T18-58-00-1day (1).csv\n",
      "File deleted: C:/Users/Rhoda/Desktop/abmf_data\\abmfho-2024-10-04T18-58-00-1day.csv\n",
      "File deleted: C:/Users/Rhoda/Desktop/abmf_data\\abmfho-2024-10-05T18-58-00-1day.csv\n",
      "File deleted: C:/Users/Rhoda/Desktop/abmf_data\\abmfho-2024-10-06T18-58-00-1day.csv\n",
      "File deleted: C:/Users/Rhoda/Desktop/abmf_data\\abmfho-2024-10-07T18-58-00-1day.csv\n",
      "File deleted: C:/Users/Rhoda/Desktop/abmf_data\\abmfho-2024-10-08T18-58-00-1day.csv\n",
      "File deleted: C:/Users/Rhoda/Desktop/abmf_data\\abmfho-2024-10-09T18-58-00-1day.csv\n",
      "File deleted: C:/Users/Rhoda/Desktop/abmf_data\\abmfho-2024-10-10T18-58-00-1day.csv\n",
      "File deleted: C:/Users/Rhoda/Desktop/abmf_data\\abmfho-2024-10-11T18-58-00-1day.csv\n",
      "File deleted: C:/Users/Rhoda/Desktop/abmf_data\\abmfho-2024-10-12T18-58-00-1day.csv\n",
      "File deleted: C:/Users/Rhoda/Desktop/abmf_data\\abmfho-2024-10-13T18-58-00-1day.csv\n",
      "File deleted: C:/Users/Rhoda/Desktop/abmf_data\\abmfho-2024-10-14T18-58-00-1day.csv\n",
      "File deleted: C:/Users/Rhoda/Desktop/abmf_data\\abmfho-2024-10-15T18-58-00-1day.csv\n",
      "File deleted: C:/Users/Rhoda/Desktop/abmf_data\\abmfho-2024-10-16T18-58-00-1day.csv\n",
      "File deleted: C:/Users/Rhoda/Desktop/abmf_data\\abmfho-2024-10-18T18-58-00-1day.csv\n",
      "File deleted: C:/Users/Rhoda/Desktop/abmf_data\\abmfho-2024-10-19T18-58-00-1day.csv\n",
      "File deleted: C:/Users/Rhoda/Desktop/abmf_data\\abmfho-2024-10-20T18-58-00-1day.csv\n",
      "File deleted: C:/Users/Rhoda/Desktop/abmf_data\\abmfho-2024-10-21T18-58-00-1day.csv\n",
      "File deleted: C:/Users/Rhoda/Desktop/abmf_data\\abmfho-2024-10-22T18-58-00-1day.csv\n",
      "File deleted: C:/Users/Rhoda/Desktop/abmf_data\\abmfho-2024-10-23T18-58-00-1day.csv\n",
      "File deleted: C:/Users/Rhoda/Desktop/abmf_data\\abmfho-2024-10-24T18-58-00-1day.csv\n",
      "File deleted: C:/Users/Rhoda/Desktop/abmf_data\\abmfho-2024-10-25T18-58-00-1day.csv\n",
      "File deleted: C:/Users/Rhoda/Desktop/abmf_data\\abmfho-2024-10-26T18-58-00-1day.csv\n",
      "File deleted: C:/Users/Rhoda/Desktop/abmf_data\\abmfho-2024-10-27T18-58-00-1day.csv\n",
      "File deleted: C:/Users/Rhoda/Desktop/abmf_data\\abmfho-2024-10-29T18-58-00-1day.csv\n",
      "File deleted: C:/Users/Rhoda/Desktop/abmf_data\\abmfho-2024-10-30T18-58-00-1day.csv\n",
      "File deleted: C:/Users/Rhoda/Desktop/abmf_data\\abmfho-2024-11-01T18-58-00-1day.csv\n"
     ]
    }
   ],
   "source": [
    "# Delete irrelevant files\n",
    "for file_path in raw_file_name_list:\n",
    "    try:\n",
    "        os.remove(file_path)\n",
    "        print(f\"File deleted: {file_path}\")\n",
    "    except FileNotFoundError:\n",
    "        print(f\"File not found: {file_path}\")\n",
    "    except Exception as e:\n",
    "        print(f\"Error deleting file {file_path}: {e}\")"
   ]
  },
  {
   "cell_type": "code",
   "execution_count": 18,
   "id": "69fc38ce-bdd1-44de-b07d-645a5a20fa77",
   "metadata": {
    "tags": []
   },
   "outputs": [
    {
     "name": "stdout",
     "output_type": "stream",
     "text": [
      "\n",
      "\n",
      "Automation Bot: Irrelevant files have been deleted, and cleaned data has been sorted into the relevant folder\n"
     ]
    }
   ],
   "source": [
    "print(\"\\n\\nAutomation Bot: Irrelevant files have been deleted, and cleaned data has been sorted into the relevant folder\")"
   ]
  },
  {
   "cell_type": "code",
   "execution_count": 19,
   "id": "b0098c8e-695d-4fd5-96d1-e27db19c8d6b",
   "metadata": {
    "tags": []
   },
   "outputs": [],
   "source": [
    "# Clear base download folder\n",
    "\n",
    "# # base folder\n",
    "# base_folder = \"C:/Users/Admin/Downloads\""
   ]
  },
  {
   "cell_type": "code",
   "execution_count": null,
   "id": "79cbf8ef-2c3e-451b-b182-efd4b2788c94",
   "metadata": {},
   "outputs": [],
   "source": []
  },
  {
   "cell_type": "markdown",
   "id": "f8ad31be-880f-4dbd-ae41-af669030c25c",
   "metadata": {
    "tags": []
   },
   "source": [
    "## Send data to the database"
   ]
  },
  {
   "cell_type": "markdown",
   "id": "5767ad2a-d92b-490e-ac39-8076c1ef4086",
   "metadata": {
    "tags": []
   },
   "source": [
    "### Get the pre-processed data"
   ]
  },
  {
   "cell_type": "code",
   "execution_count": 20,
   "id": "784976e8-353e-4a45-b019-28ecf2b6ae5e",
   "metadata": {
    "tags": []
   },
   "outputs": [
    {
     "name": "stdout",
     "output_type": "stream",
     "text": [
      "October_2024_Head office_cleaned_data.csv\n"
     ]
    }
   ],
   "source": [
    "last_month = (datetime.now() - timedelta(days=30)).strftime('%Y-%m')\n",
    "year = pd.to_datetime(last_month).strftime('%Y')\n",
    "month_name = pd.to_datetime(last_month).strftime('%B')\n",
    "\n",
    "# Joining the base folder path with a specific folder named \"apapa\" using os.path.join().\n",
    "directory = os.path.join(base_folder, f\"{site_folder_name}/{year}/\")\n",
    "\n",
    "# # initialize a variable to store all the dataframes located with the relevant conditions below\n",
    "# all_dataframes = []\n",
    "\n",
    "# Walk through the set directory and its subdirectories, and get all files with that start with the prefix and end with .csv\n",
    "for root, dirs, files in os.walk(directory):\n",
    "    for file in files:\n",
    "        if file.startswith(f\"{month_name}_{year}_{site_value}\") and file.endswith(\".csv\"):\n",
    "            print(file)\n",
    "            file_path = os.path.join(root, file)\n",
    "            try:\n",
    "                df = pd.read_csv(file_path, na_values=[\"None\"])\n",
    "                # all_dataframes.append(df)\n",
    "            except pd.errors.ParserError as e:\n",
    "                print(f\"Error reading file: {file_path} - {e}\")\n",
    "\n",
    "# Concatenate all dataframes into one\n",
    "final_df = df"
   ]
  },
  {
   "cell_type": "code",
   "execution_count": 21,
   "id": "6a07b0ab-4a92-4059-9076-70e72b876e7b",
   "metadata": {
    "tags": []
   },
   "outputs": [
    {
     "data": {
      "text/plain": [
       "0        Head office\n",
       "1        Head office\n",
       "2        Head office\n",
       "3        Head office\n",
       "4        Head office\n",
       "            ...     \n",
       "34560    Head office\n",
       "34561    Head office\n",
       "34562    Head office\n",
       "34563    Head office\n",
       "34564    Head office\n",
       "Name: site, Length: 34565, dtype: object"
      ]
     },
     "execution_count": 21,
     "metadata": {},
     "output_type": "execute_result"
    }
   ],
   "source": [
    "final_df[\"site\"]"
   ]
  },
  {
   "cell_type": "code",
   "execution_count": 22,
   "id": "c84c3f52-94a6-4f11-a91f-37ff762c85cf",
   "metadata": {
    "tags": []
   },
   "outputs": [],
   "source": [
    "final_df[\"site\"] = \"Head office\""
   ]
  },
  {
   "cell_type": "code",
   "execution_count": 23,
   "id": "9d802bcb-1ed2-4eb7-b07a-b2f8661c2a3f",
   "metadata": {
    "tags": []
   },
   "outputs": [
    {
     "data": {
      "text/plain": [
       "0        Head office\n",
       "1        Head office\n",
       "2        Head office\n",
       "3        Head office\n",
       "4        Head office\n",
       "            ...     \n",
       "34560    Head office\n",
       "34561    Head office\n",
       "34562    Head office\n",
       "34563    Head office\n",
       "34564    Head office\n",
       "Name: site, Length: 34565, dtype: object"
      ]
     },
     "execution_count": 23,
     "metadata": {},
     "output_type": "execute_result"
    }
   ],
   "source": [
    "final_df['site']"
   ]
  },
  {
   "cell_type": "code",
   "execution_count": 24,
   "id": "a0062cb7-3c8a-4e7d-b0df-c3f0762423a7",
   "metadata": {
    "tags": []
   },
   "outputs": [],
   "source": [
    "# last_month = (datetime.now() - timedelta(days=30)).strftime('%Y-%m')\n",
    "# last_month = last_month.strftime('%Y-%m')"
   ]
  },
  {
   "cell_type": "code",
   "execution_count": 25,
   "id": "3110b431-d615-4744-a566-0a72d7f37eef",
   "metadata": {
    "tags": []
   },
   "outputs": [],
   "source": [
    "# Calculate the last month\n",
    "# last_month = (datetime.now() - timedelta(days=30)).strftime('%Y-%m')\n",
    "\n",
    "# Convert 'Time' column to datetime type\n",
    "final_df['Time'] = pd.to_datetime(final_df['Time'])\n",
    "\n",
    "# Extract year and month from the 'Time' column\n",
    "final_df['year_month'] = final_df['Time'].dt.to_period('M')\n",
    "\n",
    "# Filter the dataset for the last month\n",
    "final_df = final_df[final_df['year_month'] == last_month]\n",
    "\n",
    "# Drop the temporary 'year_month' column if you don't need it\n",
    "final_df = final_df.drop(columns=['year_month'])\n",
    "\n",
    "# Reset Index\n",
    "final_df = final_df.reset_index(drop=True)\n",
    "\n",
    "# Convert the \"Time\" column to datetime objects\n",
    "final_df[\"Time\"] = pd.to_datetime(final_df[\"Time\"], errors='coerce')\n",
    "\n",
    "# Check if there is any bot created date value\n",
    "# final_df[final_df[\"Time\"].dt.year == 1970]"
   ]
  },
  {
   "cell_type": "code",
   "execution_count": 26,
   "id": "859e8a9f-6923-4b53-b3f6-1fe29f2c9b31",
   "metadata": {
    "tags": []
   },
   "outputs": [
    {
     "data": {
      "text/html": [
       "<div>\n",
       "<style scoped>\n",
       "    .dataframe tbody tr th:only-of-type {\n",
       "        vertical-align: middle;\n",
       "    }\n",
       "\n",
       "    .dataframe tbody tr th {\n",
       "        vertical-align: top;\n",
       "    }\n",
       "\n",
       "    .dataframe thead th {\n",
       "        text-align: right;\n",
       "    }\n",
       "</style>\n",
       "<table border=\"1\" class=\"dataframe\">\n",
       "  <thead>\n",
       "    <tr style=\"text-align: right;\">\n",
       "      <th></th>\n",
       "      <th>Time</th>\n",
       "      <th>Freq_Hz</th>\n",
       "      <th>Va_V</th>\n",
       "      <th>Vb_V</th>\n",
       "      <th>Vc_V</th>\n",
       "      <th>Vnavg_V</th>\n",
       "      <th>Vab_V</th>\n",
       "      <th>Vbc_V</th>\n",
       "      <th>Vca_V</th>\n",
       "      <th>Vlavg_V</th>\n",
       "      <th>...</th>\n",
       "      <th>gen2_litres_model</th>\n",
       "      <th>diesel_prices</th>\n",
       "      <th>grid_tariff</th>\n",
       "      <th>daily_price_of_used</th>\n",
       "      <th>starting_Litres</th>\n",
       "      <th>reported_liter</th>\n",
       "      <th>day</th>\n",
       "      <th>month</th>\n",
       "      <th>year</th>\n",
       "      <th>missing</th>\n",
       "    </tr>\n",
       "  </thead>\n",
       "  <tbody>\n",
       "    <tr>\n",
       "      <th>0</th>\n",
       "      <td>2024-10-01 00:00:00</td>\n",
       "      <td>50.623</td>\n",
       "      <td>209.688</td>\n",
       "      <td>208.371</td>\n",
       "      <td>208.575</td>\n",
       "      <td>208.878</td>\n",
       "      <td>0.0</td>\n",
       "      <td>0.0</td>\n",
       "      <td>0.0</td>\n",
       "      <td>0.0</td>\n",
       "      <td>...</td>\n",
       "      <td>0</td>\n",
       "      <td>1074</td>\n",
       "      <td>69.75</td>\n",
       "      <td>0</td>\n",
       "      <td>0</td>\n",
       "      <td>0</td>\n",
       "      <td>Tuesday</td>\n",
       "      <td>OCT</td>\n",
       "      <td>2024</td>\n",
       "      <td>0</td>\n",
       "    </tr>\n",
       "    <tr>\n",
       "      <th>1</th>\n",
       "      <td>2024-10-01 00:01:00</td>\n",
       "      <td>50.633</td>\n",
       "      <td>209.847</td>\n",
       "      <td>208.571</td>\n",
       "      <td>208.781</td>\n",
       "      <td>209.067</td>\n",
       "      <td>0.0</td>\n",
       "      <td>0.0</td>\n",
       "      <td>0.0</td>\n",
       "      <td>0.0</td>\n",
       "      <td>...</td>\n",
       "      <td>0</td>\n",
       "      <td>1074</td>\n",
       "      <td>69.75</td>\n",
       "      <td>0</td>\n",
       "      <td>0</td>\n",
       "      <td>0</td>\n",
       "      <td>Tuesday</td>\n",
       "      <td>OCT</td>\n",
       "      <td>2024</td>\n",
       "      <td>0</td>\n",
       "    </tr>\n",
       "    <tr>\n",
       "      <th>2</th>\n",
       "      <td>2024-10-01 00:02:00</td>\n",
       "      <td>50.673</td>\n",
       "      <td>210.169</td>\n",
       "      <td>208.869</td>\n",
       "      <td>209.049</td>\n",
       "      <td>209.362</td>\n",
       "      <td>0.0</td>\n",
       "      <td>0.0</td>\n",
       "      <td>0.0</td>\n",
       "      <td>0.0</td>\n",
       "      <td>...</td>\n",
       "      <td>0</td>\n",
       "      <td>1074</td>\n",
       "      <td>69.75</td>\n",
       "      <td>0</td>\n",
       "      <td>0</td>\n",
       "      <td>0</td>\n",
       "      <td>Tuesday</td>\n",
       "      <td>OCT</td>\n",
       "      <td>2024</td>\n",
       "      <td>0</td>\n",
       "    </tr>\n",
       "    <tr>\n",
       "      <th>3</th>\n",
       "      <td>2024-10-01 00:03:00</td>\n",
       "      <td>50.713</td>\n",
       "      <td>210.429</td>\n",
       "      <td>209.017</td>\n",
       "      <td>209.212</td>\n",
       "      <td>209.553</td>\n",
       "      <td>0.0</td>\n",
       "      <td>0.0</td>\n",
       "      <td>0.0</td>\n",
       "      <td>0.0</td>\n",
       "      <td>...</td>\n",
       "      <td>0</td>\n",
       "      <td>1074</td>\n",
       "      <td>69.75</td>\n",
       "      <td>0</td>\n",
       "      <td>0</td>\n",
       "      <td>0</td>\n",
       "      <td>Tuesday</td>\n",
       "      <td>OCT</td>\n",
       "      <td>2024</td>\n",
       "      <td>0</td>\n",
       "    </tr>\n",
       "    <tr>\n",
       "      <th>4</th>\n",
       "      <td>2024-10-01 00:04:00</td>\n",
       "      <td>50.683</td>\n",
       "      <td>210.213</td>\n",
       "      <td>208.805</td>\n",
       "      <td>208.969</td>\n",
       "      <td>209.329</td>\n",
       "      <td>0.0</td>\n",
       "      <td>0.0</td>\n",
       "      <td>0.0</td>\n",
       "      <td>0.0</td>\n",
       "      <td>...</td>\n",
       "      <td>0</td>\n",
       "      <td>1074</td>\n",
       "      <td>69.75</td>\n",
       "      <td>0</td>\n",
       "      <td>0</td>\n",
       "      <td>0</td>\n",
       "      <td>Tuesday</td>\n",
       "      <td>OCT</td>\n",
       "      <td>2024</td>\n",
       "      <td>0</td>\n",
       "    </tr>\n",
       "    <tr>\n",
       "      <th>...</th>\n",
       "      <td>...</td>\n",
       "      <td>...</td>\n",
       "      <td>...</td>\n",
       "      <td>...</td>\n",
       "      <td>...</td>\n",
       "      <td>...</td>\n",
       "      <td>...</td>\n",
       "      <td>...</td>\n",
       "      <td>...</td>\n",
       "      <td>...</td>\n",
       "      <td>...</td>\n",
       "      <td>...</td>\n",
       "      <td>...</td>\n",
       "      <td>...</td>\n",
       "      <td>...</td>\n",
       "      <td>...</td>\n",
       "      <td>...</td>\n",
       "      <td>...</td>\n",
       "      <td>...</td>\n",
       "      <td>...</td>\n",
       "      <td>...</td>\n",
       "    </tr>\n",
       "    <tr>\n",
       "      <th>34560</th>\n",
       "      <td>2024-10-31 17:32:00</td>\n",
       "      <td>50.905</td>\n",
       "      <td>204.694</td>\n",
       "      <td>203.707</td>\n",
       "      <td>203.927</td>\n",
       "      <td>204.109</td>\n",
       "      <td>0.0</td>\n",
       "      <td>0.0</td>\n",
       "      <td>0.0</td>\n",
       "      <td>0.0</td>\n",
       "      <td>...</td>\n",
       "      <td>0</td>\n",
       "      <td>1074</td>\n",
       "      <td>69.75</td>\n",
       "      <td>0</td>\n",
       "      <td>0</td>\n",
       "      <td>0</td>\n",
       "      <td>Thursday</td>\n",
       "      <td>OCT</td>\n",
       "      <td>2024</td>\n",
       "      <td>0</td>\n",
       "    </tr>\n",
       "    <tr>\n",
       "      <th>34561</th>\n",
       "      <td>2024-10-31 17:33:00</td>\n",
       "      <td>50.945</td>\n",
       "      <td>204.362</td>\n",
       "      <td>204.086</td>\n",
       "      <td>204.094</td>\n",
       "      <td>204.181</td>\n",
       "      <td>0.0</td>\n",
       "      <td>0.0</td>\n",
       "      <td>0.0</td>\n",
       "      <td>0.0</td>\n",
       "      <td>...</td>\n",
       "      <td>0</td>\n",
       "      <td>1074</td>\n",
       "      <td>69.75</td>\n",
       "      <td>0</td>\n",
       "      <td>0</td>\n",
       "      <td>0</td>\n",
       "      <td>Thursday</td>\n",
       "      <td>OCT</td>\n",
       "      <td>2024</td>\n",
       "      <td>0</td>\n",
       "    </tr>\n",
       "    <tr>\n",
       "      <th>34562</th>\n",
       "      <td>2024-10-31 17:34:00</td>\n",
       "      <td>50.955</td>\n",
       "      <td>204.373</td>\n",
       "      <td>204.182</td>\n",
       "      <td>204.082</td>\n",
       "      <td>204.212</td>\n",
       "      <td>0.0</td>\n",
       "      <td>0.0</td>\n",
       "      <td>0.0</td>\n",
       "      <td>0.0</td>\n",
       "      <td>...</td>\n",
       "      <td>0</td>\n",
       "      <td>1074</td>\n",
       "      <td>69.75</td>\n",
       "      <td>0</td>\n",
       "      <td>0</td>\n",
       "      <td>0</td>\n",
       "      <td>Thursday</td>\n",
       "      <td>OCT</td>\n",
       "      <td>2024</td>\n",
       "      <td>0</td>\n",
       "    </tr>\n",
       "    <tr>\n",
       "      <th>34563</th>\n",
       "      <td>2024-10-31 17:35:00</td>\n",
       "      <td>50.915</td>\n",
       "      <td>204.297</td>\n",
       "      <td>203.991</td>\n",
       "      <td>203.995</td>\n",
       "      <td>204.095</td>\n",
       "      <td>0.0</td>\n",
       "      <td>0.0</td>\n",
       "      <td>0.0</td>\n",
       "      <td>0.0</td>\n",
       "      <td>...</td>\n",
       "      <td>0</td>\n",
       "      <td>1074</td>\n",
       "      <td>69.75</td>\n",
       "      <td>0</td>\n",
       "      <td>0</td>\n",
       "      <td>0</td>\n",
       "      <td>Thursday</td>\n",
       "      <td>OCT</td>\n",
       "      <td>2024</td>\n",
       "      <td>0</td>\n",
       "    </tr>\n",
       "    <tr>\n",
       "      <th>34564</th>\n",
       "      <td>2024-10-31 17:36:00</td>\n",
       "      <td>50.854</td>\n",
       "      <td>204.435</td>\n",
       "      <td>204.180</td>\n",
       "      <td>204.072</td>\n",
       "      <td>204.229</td>\n",
       "      <td>0.0</td>\n",
       "      <td>0.0</td>\n",
       "      <td>0.0</td>\n",
       "      <td>0.0</td>\n",
       "      <td>...</td>\n",
       "      <td>0</td>\n",
       "      <td>1074</td>\n",
       "      <td>69.75</td>\n",
       "      <td>0</td>\n",
       "      <td>0</td>\n",
       "      <td>0</td>\n",
       "      <td>Thursday</td>\n",
       "      <td>OCT</td>\n",
       "      <td>2024</td>\n",
       "      <td>0</td>\n",
       "    </tr>\n",
       "  </tbody>\n",
       "</table>\n",
       "<p>34565 rows × 111 columns</p>\n",
       "</div>"
      ],
      "text/plain": [
       "                     Time  Freq_Hz     Va_V     Vb_V     Vc_V  Vnavg_V  Vab_V  \\\n",
       "0     2024-10-01 00:00:00   50.623  209.688  208.371  208.575  208.878    0.0   \n",
       "1     2024-10-01 00:01:00   50.633  209.847  208.571  208.781  209.067    0.0   \n",
       "2     2024-10-01 00:02:00   50.673  210.169  208.869  209.049  209.362    0.0   \n",
       "3     2024-10-01 00:03:00   50.713  210.429  209.017  209.212  209.553    0.0   \n",
       "4     2024-10-01 00:04:00   50.683  210.213  208.805  208.969  209.329    0.0   \n",
       "...                   ...      ...      ...      ...      ...      ...    ...   \n",
       "34560 2024-10-31 17:32:00   50.905  204.694  203.707  203.927  204.109    0.0   \n",
       "34561 2024-10-31 17:33:00   50.945  204.362  204.086  204.094  204.181    0.0   \n",
       "34562 2024-10-31 17:34:00   50.955  204.373  204.182  204.082  204.212    0.0   \n",
       "34563 2024-10-31 17:35:00   50.915  204.297  203.991  203.995  204.095    0.0   \n",
       "34564 2024-10-31 17:36:00   50.854  204.435  204.180  204.072  204.229    0.0   \n",
       "\n",
       "       Vbc_V  Vca_V  Vlavg_V  ...  gen2_litres_model  diesel_prices  \\\n",
       "0        0.0    0.0      0.0  ...                  0           1074   \n",
       "1        0.0    0.0      0.0  ...                  0           1074   \n",
       "2        0.0    0.0      0.0  ...                  0           1074   \n",
       "3        0.0    0.0      0.0  ...                  0           1074   \n",
       "4        0.0    0.0      0.0  ...                  0           1074   \n",
       "...      ...    ...      ...  ...                ...            ...   \n",
       "34560    0.0    0.0      0.0  ...                  0           1074   \n",
       "34561    0.0    0.0      0.0  ...                  0           1074   \n",
       "34562    0.0    0.0      0.0  ...                  0           1074   \n",
       "34563    0.0    0.0      0.0  ...                  0           1074   \n",
       "34564    0.0    0.0      0.0  ...                  0           1074   \n",
       "\n",
       "       grid_tariff  daily_price_of_used  starting_Litres  reported_liter  \\\n",
       "0            69.75                    0                0               0   \n",
       "1            69.75                    0                0               0   \n",
       "2            69.75                    0                0               0   \n",
       "3            69.75                    0                0               0   \n",
       "4            69.75                    0                0               0   \n",
       "...            ...                  ...              ...             ...   \n",
       "34560        69.75                    0                0               0   \n",
       "34561        69.75                    0                0               0   \n",
       "34562        69.75                    0                0               0   \n",
       "34563        69.75                    0                0               0   \n",
       "34564        69.75                    0                0               0   \n",
       "\n",
       "            day  month  year  missing  \n",
       "0       Tuesday    OCT  2024        0  \n",
       "1       Tuesday    OCT  2024        0  \n",
       "2       Tuesday    OCT  2024        0  \n",
       "3       Tuesday    OCT  2024        0  \n",
       "4       Tuesday    OCT  2024        0  \n",
       "...         ...    ...   ...      ...  \n",
       "34560  Thursday    OCT  2024        0  \n",
       "34561  Thursday    OCT  2024        0  \n",
       "34562  Thursday    OCT  2024        0  \n",
       "34563  Thursday    OCT  2024        0  \n",
       "34564  Thursday    OCT  2024        0  \n",
       "\n",
       "[34565 rows x 111 columns]"
      ]
     },
     "execution_count": 26,
     "metadata": {},
     "output_type": "execute_result"
    }
   ],
   "source": [
    "final_df"
   ]
  },
  {
   "cell_type": "code",
   "execution_count": null,
   "id": "2fa3a3e2-2de4-4fae-b0fa-f2b15a5c253d",
   "metadata": {},
   "outputs": [],
   "source": []
  },
  {
   "cell_type": "code",
   "execution_count": 27,
   "id": "103954a0-f468-4164-92f7-0c83507d40e9",
   "metadata": {
    "tags": []
   },
   "outputs": [],
   "source": [
    "# Set the combined df as df\n",
    "df = final_df.copy()\n",
    "\n",
    "### Sort the DataFrame by the 'Time' column\n",
    "df = df.sort_values(by='Time')\n",
    "\n",
    "# Reset the index\n",
    "df = df.reset_index(drop=True)"
   ]
  },
  {
   "cell_type": "code",
   "execution_count": 28,
   "id": "94a21eac-c314-4fe2-82eb-8a4818bc0698",
   "metadata": {
    "tags": []
   },
   "outputs": [
    {
     "data": {
      "text/html": [
       "<div>\n",
       "<style scoped>\n",
       "    .dataframe tbody tr th:only-of-type {\n",
       "        vertical-align: middle;\n",
       "    }\n",
       "\n",
       "    .dataframe tbody tr th {\n",
       "        vertical-align: top;\n",
       "    }\n",
       "\n",
       "    .dataframe thead th {\n",
       "        text-align: right;\n",
       "    }\n",
       "</style>\n",
       "<table border=\"1\" class=\"dataframe\">\n",
       "  <thead>\n",
       "    <tr style=\"text-align: right;\">\n",
       "      <th></th>\n",
       "      <th>Time</th>\n",
       "      <th>Freq_Hz</th>\n",
       "      <th>Va_V</th>\n",
       "      <th>Vb_V</th>\n",
       "      <th>Vc_V</th>\n",
       "      <th>Vnavg_V</th>\n",
       "      <th>Vab_V</th>\n",
       "      <th>Vbc_V</th>\n",
       "      <th>Vca_V</th>\n",
       "      <th>Vlavg_V</th>\n",
       "      <th>...</th>\n",
       "      <th>gen2_litres_model</th>\n",
       "      <th>diesel_prices</th>\n",
       "      <th>grid_tariff</th>\n",
       "      <th>daily_price_of_used</th>\n",
       "      <th>starting_Litres</th>\n",
       "      <th>reported_liter</th>\n",
       "      <th>day</th>\n",
       "      <th>month</th>\n",
       "      <th>year</th>\n",
       "      <th>missing</th>\n",
       "    </tr>\n",
       "  </thead>\n",
       "  <tbody>\n",
       "    <tr>\n",
       "      <th>0</th>\n",
       "      <td>2024-10-01 00:00:00</td>\n",
       "      <td>50.623</td>\n",
       "      <td>209.688</td>\n",
       "      <td>208.371</td>\n",
       "      <td>208.575</td>\n",
       "      <td>208.878</td>\n",
       "      <td>0.0</td>\n",
       "      <td>0.0</td>\n",
       "      <td>0.0</td>\n",
       "      <td>0.0</td>\n",
       "      <td>...</td>\n",
       "      <td>0</td>\n",
       "      <td>1074</td>\n",
       "      <td>69.75</td>\n",
       "      <td>0</td>\n",
       "      <td>0</td>\n",
       "      <td>0</td>\n",
       "      <td>Tuesday</td>\n",
       "      <td>OCT</td>\n",
       "      <td>2024</td>\n",
       "      <td>0</td>\n",
       "    </tr>\n",
       "    <tr>\n",
       "      <th>1</th>\n",
       "      <td>2024-10-01 00:01:00</td>\n",
       "      <td>50.633</td>\n",
       "      <td>209.847</td>\n",
       "      <td>208.571</td>\n",
       "      <td>208.781</td>\n",
       "      <td>209.067</td>\n",
       "      <td>0.0</td>\n",
       "      <td>0.0</td>\n",
       "      <td>0.0</td>\n",
       "      <td>0.0</td>\n",
       "      <td>...</td>\n",
       "      <td>0</td>\n",
       "      <td>1074</td>\n",
       "      <td>69.75</td>\n",
       "      <td>0</td>\n",
       "      <td>0</td>\n",
       "      <td>0</td>\n",
       "      <td>Tuesday</td>\n",
       "      <td>OCT</td>\n",
       "      <td>2024</td>\n",
       "      <td>0</td>\n",
       "    </tr>\n",
       "    <tr>\n",
       "      <th>2</th>\n",
       "      <td>2024-10-01 00:02:00</td>\n",
       "      <td>50.673</td>\n",
       "      <td>210.169</td>\n",
       "      <td>208.869</td>\n",
       "      <td>209.049</td>\n",
       "      <td>209.362</td>\n",
       "      <td>0.0</td>\n",
       "      <td>0.0</td>\n",
       "      <td>0.0</td>\n",
       "      <td>0.0</td>\n",
       "      <td>...</td>\n",
       "      <td>0</td>\n",
       "      <td>1074</td>\n",
       "      <td>69.75</td>\n",
       "      <td>0</td>\n",
       "      <td>0</td>\n",
       "      <td>0</td>\n",
       "      <td>Tuesday</td>\n",
       "      <td>OCT</td>\n",
       "      <td>2024</td>\n",
       "      <td>0</td>\n",
       "    </tr>\n",
       "    <tr>\n",
       "      <th>3</th>\n",
       "      <td>2024-10-01 00:03:00</td>\n",
       "      <td>50.713</td>\n",
       "      <td>210.429</td>\n",
       "      <td>209.017</td>\n",
       "      <td>209.212</td>\n",
       "      <td>209.553</td>\n",
       "      <td>0.0</td>\n",
       "      <td>0.0</td>\n",
       "      <td>0.0</td>\n",
       "      <td>0.0</td>\n",
       "      <td>...</td>\n",
       "      <td>0</td>\n",
       "      <td>1074</td>\n",
       "      <td>69.75</td>\n",
       "      <td>0</td>\n",
       "      <td>0</td>\n",
       "      <td>0</td>\n",
       "      <td>Tuesday</td>\n",
       "      <td>OCT</td>\n",
       "      <td>2024</td>\n",
       "      <td>0</td>\n",
       "    </tr>\n",
       "    <tr>\n",
       "      <th>4</th>\n",
       "      <td>2024-10-01 00:04:00</td>\n",
       "      <td>50.683</td>\n",
       "      <td>210.213</td>\n",
       "      <td>208.805</td>\n",
       "      <td>208.969</td>\n",
       "      <td>209.329</td>\n",
       "      <td>0.0</td>\n",
       "      <td>0.0</td>\n",
       "      <td>0.0</td>\n",
       "      <td>0.0</td>\n",
       "      <td>...</td>\n",
       "      <td>0</td>\n",
       "      <td>1074</td>\n",
       "      <td>69.75</td>\n",
       "      <td>0</td>\n",
       "      <td>0</td>\n",
       "      <td>0</td>\n",
       "      <td>Tuesday</td>\n",
       "      <td>OCT</td>\n",
       "      <td>2024</td>\n",
       "      <td>0</td>\n",
       "    </tr>\n",
       "    <tr>\n",
       "      <th>...</th>\n",
       "      <td>...</td>\n",
       "      <td>...</td>\n",
       "      <td>...</td>\n",
       "      <td>...</td>\n",
       "      <td>...</td>\n",
       "      <td>...</td>\n",
       "      <td>...</td>\n",
       "      <td>...</td>\n",
       "      <td>...</td>\n",
       "      <td>...</td>\n",
       "      <td>...</td>\n",
       "      <td>...</td>\n",
       "      <td>...</td>\n",
       "      <td>...</td>\n",
       "      <td>...</td>\n",
       "      <td>...</td>\n",
       "      <td>...</td>\n",
       "      <td>...</td>\n",
       "      <td>...</td>\n",
       "      <td>...</td>\n",
       "      <td>...</td>\n",
       "    </tr>\n",
       "    <tr>\n",
       "      <th>34560</th>\n",
       "      <td>2024-10-31 17:32:00</td>\n",
       "      <td>50.905</td>\n",
       "      <td>204.694</td>\n",
       "      <td>203.707</td>\n",
       "      <td>203.927</td>\n",
       "      <td>204.109</td>\n",
       "      <td>0.0</td>\n",
       "      <td>0.0</td>\n",
       "      <td>0.0</td>\n",
       "      <td>0.0</td>\n",
       "      <td>...</td>\n",
       "      <td>0</td>\n",
       "      <td>1074</td>\n",
       "      <td>69.75</td>\n",
       "      <td>0</td>\n",
       "      <td>0</td>\n",
       "      <td>0</td>\n",
       "      <td>Thursday</td>\n",
       "      <td>OCT</td>\n",
       "      <td>2024</td>\n",
       "      <td>0</td>\n",
       "    </tr>\n",
       "    <tr>\n",
       "      <th>34561</th>\n",
       "      <td>2024-10-31 17:33:00</td>\n",
       "      <td>50.945</td>\n",
       "      <td>204.362</td>\n",
       "      <td>204.086</td>\n",
       "      <td>204.094</td>\n",
       "      <td>204.181</td>\n",
       "      <td>0.0</td>\n",
       "      <td>0.0</td>\n",
       "      <td>0.0</td>\n",
       "      <td>0.0</td>\n",
       "      <td>...</td>\n",
       "      <td>0</td>\n",
       "      <td>1074</td>\n",
       "      <td>69.75</td>\n",
       "      <td>0</td>\n",
       "      <td>0</td>\n",
       "      <td>0</td>\n",
       "      <td>Thursday</td>\n",
       "      <td>OCT</td>\n",
       "      <td>2024</td>\n",
       "      <td>0</td>\n",
       "    </tr>\n",
       "    <tr>\n",
       "      <th>34562</th>\n",
       "      <td>2024-10-31 17:34:00</td>\n",
       "      <td>50.955</td>\n",
       "      <td>204.373</td>\n",
       "      <td>204.182</td>\n",
       "      <td>204.082</td>\n",
       "      <td>204.212</td>\n",
       "      <td>0.0</td>\n",
       "      <td>0.0</td>\n",
       "      <td>0.0</td>\n",
       "      <td>0.0</td>\n",
       "      <td>...</td>\n",
       "      <td>0</td>\n",
       "      <td>1074</td>\n",
       "      <td>69.75</td>\n",
       "      <td>0</td>\n",
       "      <td>0</td>\n",
       "      <td>0</td>\n",
       "      <td>Thursday</td>\n",
       "      <td>OCT</td>\n",
       "      <td>2024</td>\n",
       "      <td>0</td>\n",
       "    </tr>\n",
       "    <tr>\n",
       "      <th>34563</th>\n",
       "      <td>2024-10-31 17:35:00</td>\n",
       "      <td>50.915</td>\n",
       "      <td>204.297</td>\n",
       "      <td>203.991</td>\n",
       "      <td>203.995</td>\n",
       "      <td>204.095</td>\n",
       "      <td>0.0</td>\n",
       "      <td>0.0</td>\n",
       "      <td>0.0</td>\n",
       "      <td>0.0</td>\n",
       "      <td>...</td>\n",
       "      <td>0</td>\n",
       "      <td>1074</td>\n",
       "      <td>69.75</td>\n",
       "      <td>0</td>\n",
       "      <td>0</td>\n",
       "      <td>0</td>\n",
       "      <td>Thursday</td>\n",
       "      <td>OCT</td>\n",
       "      <td>2024</td>\n",
       "      <td>0</td>\n",
       "    </tr>\n",
       "    <tr>\n",
       "      <th>34564</th>\n",
       "      <td>2024-10-31 17:36:00</td>\n",
       "      <td>50.854</td>\n",
       "      <td>204.435</td>\n",
       "      <td>204.180</td>\n",
       "      <td>204.072</td>\n",
       "      <td>204.229</td>\n",
       "      <td>0.0</td>\n",
       "      <td>0.0</td>\n",
       "      <td>0.0</td>\n",
       "      <td>0.0</td>\n",
       "      <td>...</td>\n",
       "      <td>0</td>\n",
       "      <td>1074</td>\n",
       "      <td>69.75</td>\n",
       "      <td>0</td>\n",
       "      <td>0</td>\n",
       "      <td>0</td>\n",
       "      <td>Thursday</td>\n",
       "      <td>OCT</td>\n",
       "      <td>2024</td>\n",
       "      <td>0</td>\n",
       "    </tr>\n",
       "  </tbody>\n",
       "</table>\n",
       "<p>34565 rows × 111 columns</p>\n",
       "</div>"
      ],
      "text/plain": [
       "                     Time  Freq_Hz     Va_V     Vb_V     Vc_V  Vnavg_V  Vab_V  \\\n",
       "0     2024-10-01 00:00:00   50.623  209.688  208.371  208.575  208.878    0.0   \n",
       "1     2024-10-01 00:01:00   50.633  209.847  208.571  208.781  209.067    0.0   \n",
       "2     2024-10-01 00:02:00   50.673  210.169  208.869  209.049  209.362    0.0   \n",
       "3     2024-10-01 00:03:00   50.713  210.429  209.017  209.212  209.553    0.0   \n",
       "4     2024-10-01 00:04:00   50.683  210.213  208.805  208.969  209.329    0.0   \n",
       "...                   ...      ...      ...      ...      ...      ...    ...   \n",
       "34560 2024-10-31 17:32:00   50.905  204.694  203.707  203.927  204.109    0.0   \n",
       "34561 2024-10-31 17:33:00   50.945  204.362  204.086  204.094  204.181    0.0   \n",
       "34562 2024-10-31 17:34:00   50.955  204.373  204.182  204.082  204.212    0.0   \n",
       "34563 2024-10-31 17:35:00   50.915  204.297  203.991  203.995  204.095    0.0   \n",
       "34564 2024-10-31 17:36:00   50.854  204.435  204.180  204.072  204.229    0.0   \n",
       "\n",
       "       Vbc_V  Vca_V  Vlavg_V  ...  gen2_litres_model  diesel_prices  \\\n",
       "0        0.0    0.0      0.0  ...                  0           1074   \n",
       "1        0.0    0.0      0.0  ...                  0           1074   \n",
       "2        0.0    0.0      0.0  ...                  0           1074   \n",
       "3        0.0    0.0      0.0  ...                  0           1074   \n",
       "4        0.0    0.0      0.0  ...                  0           1074   \n",
       "...      ...    ...      ...  ...                ...            ...   \n",
       "34560    0.0    0.0      0.0  ...                  0           1074   \n",
       "34561    0.0    0.0      0.0  ...                  0           1074   \n",
       "34562    0.0    0.0      0.0  ...                  0           1074   \n",
       "34563    0.0    0.0      0.0  ...                  0           1074   \n",
       "34564    0.0    0.0      0.0  ...                  0           1074   \n",
       "\n",
       "       grid_tariff  daily_price_of_used  starting_Litres  reported_liter  \\\n",
       "0            69.75                    0                0               0   \n",
       "1            69.75                    0                0               0   \n",
       "2            69.75                    0                0               0   \n",
       "3            69.75                    0                0               0   \n",
       "4            69.75                    0                0               0   \n",
       "...            ...                  ...              ...             ...   \n",
       "34560        69.75                    0                0               0   \n",
       "34561        69.75                    0                0               0   \n",
       "34562        69.75                    0                0               0   \n",
       "34563        69.75                    0                0               0   \n",
       "34564        69.75                    0                0               0   \n",
       "\n",
       "            day  month  year  missing  \n",
       "0       Tuesday    OCT  2024        0  \n",
       "1       Tuesday    OCT  2024        0  \n",
       "2       Tuesday    OCT  2024        0  \n",
       "3       Tuesday    OCT  2024        0  \n",
       "4       Tuesday    OCT  2024        0  \n",
       "...         ...    ...   ...      ...  \n",
       "34560  Thursday    OCT  2024        0  \n",
       "34561  Thursday    OCT  2024        0  \n",
       "34562  Thursday    OCT  2024        0  \n",
       "34563  Thursday    OCT  2024        0  \n",
       "34564  Thursday    OCT  2024        0  \n",
       "\n",
       "[34565 rows x 111 columns]"
      ]
     },
     "execution_count": 28,
     "metadata": {},
     "output_type": "execute_result"
    }
   ],
   "source": [
    "df"
   ]
  },
  {
   "cell_type": "markdown",
   "id": "2af20155-2bfe-4529-9497-b66bad01ced8",
   "metadata": {
    "tags": []
   },
   "source": [
    "### Calculate the 'starting_Litres' and 'daily_price_of_used' in the newly created df columns"
   ]
  },
  {
   "cell_type": "code",
   "execution_count": 29,
   "id": "20205c35-9704-4e6c-9d9b-07f255227b72",
   "metadata": {
    "tags": []
   },
   "outputs": [],
   "source": [
    "# Read the 'start_and_add' data\n",
    "start_and_add_df = pd.read_csv(\"startandadd.csv\")"
   ]
  },
  {
   "cell_type": "code",
   "execution_count": 30,
   "id": "ed633ded-75c2-4a65-962f-32d0fc02b57e",
   "metadata": {
    "tags": []
   },
   "outputs": [],
   "source": [
    "# Set the equivalent month names\n",
    "month_equivalents = {'JAN': 'January', 'FEB': 'February', 'MAR': 'March', 'APR': 'April',\n",
    "                     'MAY': 'May', 'JUN': 'June', 'JUL': 'July', 'AUG': 'August',\n",
    "                     'SEP': 'September', 'OCT': 'October', 'NOV': 'November', 'DEC': 'December'}"
   ]
  },
  {
   "cell_type": "code",
   "execution_count": 31,
   "id": "a40a9933-65d8-4a79-bf6b-dc62e7891a4c",
   "metadata": {
    "tags": []
   },
   "outputs": [],
   "source": [
    "# Calculate starting litres only once\n",
    "starting_litres_dict = {}\n",
    "\n",
    "# Iterate through each row in the DataFrame to find and store starting litres\n",
    "for index, row in df.iterrows():\n",
    "    key = (row['site'], row['month'], row['year'])\n",
    "    \n",
    "    # Check if starting litres for the current site, month, and year are already calculated\n",
    "    if key not in starting_litres_dict:\n",
    "        \n",
    "        # Find the corresponding row in the start_and_add_df DataFrame\n",
    "        matching_row = start_and_add_df[\n",
    "            (start_and_add_df['Branch'] == row['site']) &\n",
    "            (start_and_add_df['Month'] == month_equivalents.get(row['month'].upper())) &\n",
    "            (start_and_add_df['Year'] == row['year'])\n",
    "        ]\n",
    "        \n",
    "        # If a matching row is found, store the 'Start_Litres' value in the dictionary\n",
    "        if not matching_row.empty:\n",
    "            starting_litres_dict[key] = matching_row['Start_Litres'].values[0]"
   ]
  },
  {
   "cell_type": "code",
   "execution_count": 32,
   "id": "1f9810bc-5df9-4051-a000-2c225f23aaef",
   "metadata": {
    "scrolled": true,
    "tags": []
   },
   "outputs": [],
   "source": [
    "# Calculate and update 'starting_Litres' in the original DataFrame\n",
    "for index, row in df.iterrows():\n",
    "    key = (row['site'], row['month'], row['year'])\n",
    "    \n",
    "    # Check if starting litres information is available in the dictionary\n",
    "    if key in starting_litres_dict:\n",
    "        # Calculate starting litres by subtracting the stored value from the sum of gen1_litres_model and gen2_litres_model\n",
    "        if index == 0:\n",
    "            # For the first row, use the value from the dictionary directly\n",
    "            df.at[index, 'starting_Litres'] = starting_litres_dict[key]\n",
    "        else:\n",
    "            # For subsequent rows, use the calculated value from the previous row\n",
    "            df.at[index, 'starting_Litres'] = df.at[index - 1, 'starting_Litres'] - (row['gen1_litres_model'] + row['gen2_litres_model'])"
   ]
  },
  {
   "cell_type": "code",
   "execution_count": 33,
   "id": "cf1ddfe0-84b6-46c7-8138-24fb362f83d2",
   "metadata": {
    "tags": []
   },
   "outputs": [],
   "source": [
    "# Calculate the value of the column 'daily_price_of_used' in the DataFrame\n",
    "df['daily_price_of_used'] = ((df['gen1_litres_model'] + df['gen2_litres_model'])) * df['diesel_prices']"
   ]
  },
  {
   "cell_type": "code",
   "execution_count": 34,
   "id": "7dc088d5-1021-4b18-8953-9d280a5bdb89",
   "metadata": {
    "tags": []
   },
   "outputs": [
    {
     "data": {
      "text/html": [
       "<div>\n",
       "<style scoped>\n",
       "    .dataframe tbody tr th:only-of-type {\n",
       "        vertical-align: middle;\n",
       "    }\n",
       "\n",
       "    .dataframe tbody tr th {\n",
       "        vertical-align: top;\n",
       "    }\n",
       "\n",
       "    .dataframe thead th {\n",
       "        text-align: right;\n",
       "    }\n",
       "</style>\n",
       "<table border=\"1\" class=\"dataframe\">\n",
       "  <thead>\n",
       "    <tr style=\"text-align: right;\">\n",
       "      <th></th>\n",
       "      <th>site</th>\n",
       "      <th>month</th>\n",
       "      <th>year</th>\n",
       "      <th>gen1_litres_model</th>\n",
       "      <th>gen2_litres_model</th>\n",
       "      <th>starting_Litres</th>\n",
       "      <th>diesel_prices</th>\n",
       "      <th>daily_price_of_used</th>\n",
       "    </tr>\n",
       "  </thead>\n",
       "  <tbody>\n",
       "    <tr>\n",
       "      <th>0</th>\n",
       "      <td>Head office</td>\n",
       "      <td>OCT</td>\n",
       "      <td>2024</td>\n",
       "      <td>0.000000</td>\n",
       "      <td>0</td>\n",
       "      <td>0</td>\n",
       "      <td>1074</td>\n",
       "      <td>0.000000</td>\n",
       "    </tr>\n",
       "    <tr>\n",
       "      <th>1</th>\n",
       "      <td>Head office</td>\n",
       "      <td>OCT</td>\n",
       "      <td>2024</td>\n",
       "      <td>0.000000</td>\n",
       "      <td>0</td>\n",
       "      <td>0</td>\n",
       "      <td>1074</td>\n",
       "      <td>0.000000</td>\n",
       "    </tr>\n",
       "    <tr>\n",
       "      <th>2</th>\n",
       "      <td>Head office</td>\n",
       "      <td>OCT</td>\n",
       "      <td>2024</td>\n",
       "      <td>0.000000</td>\n",
       "      <td>0</td>\n",
       "      <td>0</td>\n",
       "      <td>1074</td>\n",
       "      <td>0.000000</td>\n",
       "    </tr>\n",
       "    <tr>\n",
       "      <th>3</th>\n",
       "      <td>Head office</td>\n",
       "      <td>OCT</td>\n",
       "      <td>2024</td>\n",
       "      <td>0.000000</td>\n",
       "      <td>0</td>\n",
       "      <td>0</td>\n",
       "      <td>1074</td>\n",
       "      <td>0.000000</td>\n",
       "    </tr>\n",
       "    <tr>\n",
       "      <th>4</th>\n",
       "      <td>Head office</td>\n",
       "      <td>OCT</td>\n",
       "      <td>2024</td>\n",
       "      <td>0.000000</td>\n",
       "      <td>0</td>\n",
       "      <td>0</td>\n",
       "      <td>1074</td>\n",
       "      <td>0.000000</td>\n",
       "    </tr>\n",
       "    <tr>\n",
       "      <th>...</th>\n",
       "      <td>...</td>\n",
       "      <td>...</td>\n",
       "      <td>...</td>\n",
       "      <td>...</td>\n",
       "      <td>...</td>\n",
       "      <td>...</td>\n",
       "      <td>...</td>\n",
       "      <td>...</td>\n",
       "    </tr>\n",
       "    <tr>\n",
       "      <th>34560</th>\n",
       "      <td>Head office</td>\n",
       "      <td>OCT</td>\n",
       "      <td>2024</td>\n",
       "      <td>0.109036</td>\n",
       "      <td>0</td>\n",
       "      <td>0</td>\n",
       "      <td>1074</td>\n",
       "      <td>117.104771</td>\n",
       "    </tr>\n",
       "    <tr>\n",
       "      <th>34561</th>\n",
       "      <td>Head office</td>\n",
       "      <td>OCT</td>\n",
       "      <td>2024</td>\n",
       "      <td>0.106980</td>\n",
       "      <td>0</td>\n",
       "      <td>0</td>\n",
       "      <td>1074</td>\n",
       "      <td>114.896198</td>\n",
       "    </tr>\n",
       "    <tr>\n",
       "      <th>34562</th>\n",
       "      <td>Head office</td>\n",
       "      <td>OCT</td>\n",
       "      <td>2024</td>\n",
       "      <td>0.107430</td>\n",
       "      <td>0</td>\n",
       "      <td>0</td>\n",
       "      <td>1074</td>\n",
       "      <td>115.380035</td>\n",
       "    </tr>\n",
       "    <tr>\n",
       "      <th>34563</th>\n",
       "      <td>Head office</td>\n",
       "      <td>OCT</td>\n",
       "      <td>2024</td>\n",
       "      <td>0.106625</td>\n",
       "      <td>0</td>\n",
       "      <td>0</td>\n",
       "      <td>1074</td>\n",
       "      <td>114.514820</td>\n",
       "    </tr>\n",
       "    <tr>\n",
       "      <th>34564</th>\n",
       "      <td>Head office</td>\n",
       "      <td>OCT</td>\n",
       "      <td>2024</td>\n",
       "      <td>0.107510</td>\n",
       "      <td>0</td>\n",
       "      <td>0</td>\n",
       "      <td>1074</td>\n",
       "      <td>115.465418</td>\n",
       "    </tr>\n",
       "  </tbody>\n",
       "</table>\n",
       "<p>34565 rows × 8 columns</p>\n",
       "</div>"
      ],
      "text/plain": [
       "              site month  year  gen1_litres_model  gen2_litres_model  \\\n",
       "0      Head office   OCT  2024           0.000000                  0   \n",
       "1      Head office   OCT  2024           0.000000                  0   \n",
       "2      Head office   OCT  2024           0.000000                  0   \n",
       "3      Head office   OCT  2024           0.000000                  0   \n",
       "4      Head office   OCT  2024           0.000000                  0   \n",
       "...            ...   ...   ...                ...                ...   \n",
       "34560  Head office   OCT  2024           0.109036                  0   \n",
       "34561  Head office   OCT  2024           0.106980                  0   \n",
       "34562  Head office   OCT  2024           0.107430                  0   \n",
       "34563  Head office   OCT  2024           0.106625                  0   \n",
       "34564  Head office   OCT  2024           0.107510                  0   \n",
       "\n",
       "       starting_Litres  diesel_prices  daily_price_of_used  \n",
       "0                    0           1074             0.000000  \n",
       "1                    0           1074             0.000000  \n",
       "2                    0           1074             0.000000  \n",
       "3                    0           1074             0.000000  \n",
       "4                    0           1074             0.000000  \n",
       "...                ...            ...                  ...  \n",
       "34560                0           1074           117.104771  \n",
       "34561                0           1074           114.896198  \n",
       "34562                0           1074           115.380035  \n",
       "34563                0           1074           114.514820  \n",
       "34564                0           1074           115.465418  \n",
       "\n",
       "[34565 rows x 8 columns]"
      ]
     },
     "execution_count": 34,
     "metadata": {},
     "output_type": "execute_result"
    }
   ],
   "source": [
    "# Display the modified DataFrame with selected columns\n",
    "df[['site', 'month', 'year', 'gen1_litres_model', 'gen2_litres_model', 'starting_Litres', 'diesel_prices', 'daily_price_of_used']]"
   ]
  },
  {
   "cell_type": "code",
   "execution_count": null,
   "id": "e079f971-2d51-4c53-b639-f4e9dffbf198",
   "metadata": {},
   "outputs": [],
   "source": []
  },
  {
   "cell_type": "markdown",
   "id": "1b3b4f02-389a-45ba-b869-f88c74800536",
   "metadata": {
    "tags": []
   },
   "source": [
    "### Calculate KPI's"
   ]
  },
  {
   "cell_type": "code",
   "execution_count": 35,
   "id": "4eb1e3b4-ef8a-47c7-9fde-21a28b5f60ed",
   "metadata": {
    "tags": []
   },
   "outputs": [],
   "source": [
    "size_per_sqm = 700\n",
    "gen_capacity_ho = 64\n",
    "total_op_hours = 559.08"
   ]
  },
  {
   "cell_type": "markdown",
   "id": "7d14c88c-6c2d-4a3e-b998-c106491cd657",
   "metadata": {
    "tags": []
   },
   "source": [
    "#### Calculate Carbon Footprint"
   ]
  },
  {
   "cell_type": "code",
   "execution_count": 36,
   "id": "56d99a1d-1edd-4a47-b595-b1c9f2c42597",
   "metadata": {
    "tags": []
   },
   "outputs": [],
   "source": [
    "data = {\"Aba\": {\"size_per_sqm\": 340}, \"Apapa\": {\"size_per_sqm\": 460}, \"Badagry\": {\"size_per_sqm\": 380}, \"Onitsha 1\": {\"size_per_sqm\": 380}, \"Onitsha 2\": {\"size_per_sqm\": 340}, \"Dugbe\": {\"size_per_sqm\": 880}, \"Head office\": {\"size_per_sqm\": 700}, \"Ikeja\": {\"size_per_sqm\": 800}, \"Oke arin\": {\"size_per_sqm\": 340}, \"Oshodi\": {\"size_per_sqm\": 420}}"
   ]
  },
  {
   "cell_type": "code",
   "execution_count": 37,
   "id": "aebc5e51-0ed1-4572-80b2-6a91b00d2c75",
   "metadata": {
    "tags": []
   },
   "outputs": [],
   "source": [
    "df[\"Carbon_footprint\"] = df.apply(lambda row: ((row[\"grid_kW\"] * 0.33) + ((row[\"gen1_litres_model\"] + row[\"gen2_litres_model\"]) * 2.64)) / (data[row[\"site\"]][\"size_per_sqm\"] * row[\"system_kWh\"]) if (data[row[\"site\"]][\"size_per_sqm\"] * row[\"system_kWh\"]) != 0 else 0, axis=1)"
   ]
  },
  {
   "cell_type": "code",
   "execution_count": 38,
   "id": "4f9ad472-83bc-4244-9870-3b695f69465d",
   "metadata": {
    "tags": []
   },
   "outputs": [],
   "source": [
    "# list(df.columns)"
   ]
  },
  {
   "cell_type": "markdown",
   "id": "664fb3c9-a216-4d14-adaf-7685313a521a",
   "metadata": {
    "tags": []
   },
   "source": [
    "### Encode the powersource and multipowersource variables"
   ]
  },
  {
   "cell_type": "code",
   "execution_count": 39,
   "id": "e0c54277-09d4-421b-9377-8dc38aeb5b08",
   "metadata": {
    "tags": []
   },
   "outputs": [],
   "source": [
    "# # One Hot Encode the power source column.\n",
    "# df = pd.get_dummies(df, columns=['powersource'])\n",
    "\n",
    "# # One Hot Encode the multipowersource column.\n",
    "# df = pd.get_dummies(df, columns=['multi_powersource'])"
   ]
  },
  {
   "cell_type": "code",
   "execution_count": 40,
   "id": "f3c7b99f-b392-4b47-bbb7-4fd64d684b87",
   "metadata": {
    "tags": []
   },
   "outputs": [],
   "source": [
    "# Save the df as df.csv\n",
    "df.to_csv('df.csv', index=False)"
   ]
  },
  {
   "cell_type": "code",
   "execution_count": null,
   "id": "c9af64ad-46d2-4e8a-910b-948b3e1d7d9c",
   "metadata": {
    "tags": []
   },
   "outputs": [],
   "source": []
  },
  {
   "cell_type": "markdown",
   "id": "88b1fe99-2246-4241-b606-2afdee7d301b",
   "metadata": {
    "tags": []
   },
   "source": [
    "### Send the combined data to the database"
   ]
  },
  {
   "cell_type": "code",
   "execution_count": 41,
   "id": "8cd1c5f0-21d6-492d-bbac-5dc13feafe37",
   "metadata": {
    "tags": []
   },
   "outputs": [],
   "source": [
    "# Establishes a connection to an SQLite database named 'abmf_database.db'\n",
    "sqliteConnection = sqlite3.connect('abmf2.db')\n",
    "# sqliteConnection = sqlite3.connect(r'C:\\Users\\Admin\\Desktop\\SQL\\abmf_database.db')"
   ]
  },
  {
   "cell_type": "code",
   "execution_count": 42,
   "id": "f82c3249-d2bc-4540-bfca-e8cf3f03113d",
   "metadata": {
    "tags": []
   },
   "outputs": [],
   "source": [
    "# SQL query to create an SQLite table named 'combine' with a wide range of columns\n",
    "sqlite_create_table_query = \"\"\"\n",
    "CREATE TABLE IF NOT EXISTS combine (Time datetime, Freq_Hz REAL, Va_V REAL, Vb_V REAL, Vc_V REAL, Vnavg_V REAL, Vab_V REAL, Vbc_V REAL, Vca_V REAL, Vlavg_V REAL,\n",
    "Ia_A REAL, Ib_A REAL, Ic_A REAL, Iavg_A REAL, PFa REAL, PFb REAL, PFc REAL, PF REAL, I001_A REAL, PF001 REAL, I002_A REAL, PF002 REAL, I003_A REAL, PF003 REAL,\n",
    "I004_A REAL, PF004 REAL, I005_A REAL, PF005 REAL, I006_A REAL, PF006 REAL, I007_A REAL, PF007 REAL, I008_A REAL, PF008 REAL, I009_A REAL, PF009 REAL, PFs1 REAL,\n",
    "PFs2 REAL, PFs3 REAL, Pa_kW REAL, Pb_kW REAL, Pc_kW REAL, P_kW REAL, Qa_kvar REAL, Qb_kvar REAL, Qc_kvar REAL, Q_kvar REAL, Sa_kVA REAL, Sb_kVA REAL, Sc_kVA REAL,\n",
    "S_kVA REAL, P001_kW REAL, Q001_kvar REAL, S001_kVA REAL, P002_kW REAL, Q002_kvar REAL, S002_kVA REAL, P003_kW REAL, Q003_kvar REAL, S003_kVA REAL, P004_kW REAL,\n",
    "Q004_kvar REAL, S004_kVA REAL, P005_kW REAL, Q005_kvar REAL, S005_kVA REAL, P006_kW REAL, Q006_kvar REAL, S006_kVA REAL, P007_kW REAL, Q007_kvar REAL, S007_kVA REAL,\n",
    "P008_kW REAL, Q008_kvar REAL, S008_kVA REAL, P009_kW REAL, Q009_kvar REAL, S009_kVA REAL, Ps1_kW REAL, Qs1_kvar REAL, Ss1_kVA REAL, Ps2_kW REAL, Qs2_kvar REAL,\n",
    "Ss2_kVA REAL, Ps3_kW REAL, Qs3_kvar REAL, Ss3_kVA REAL, site TEXT, gen1_kW REAL, grid_kW REAL, gen2_kW REAL, grid_kWh REAL, gen1_kWh REAL, gen2_kWh REAL, powersource TEXT,\n",
    "multi_powersource TEXT, system_kW REAL, system_kWh REAL, multi_system_kW REAL, multi_system_kWh REAL, gen1_litres_model REAL,\n",
    "gen2_litres_model REAL, diesel_prices REAL, grid_tariff REAL, daily_price_of_used REAL, starting_Litres REAL, reported_liter REAL, month REAL,\n",
    "year TEXT,missing TEXT, Carbon_footprint REAL); \"\"\""
   ]
  },
  {
   "cell_type": "code",
   "execution_count": 43,
   "id": "7a0f35cc-64d1-4566-a9e7-654f637d09e5",
   "metadata": {
    "tags": []
   },
   "outputs": [],
   "source": [
    "# Create a cursor object to interact with the SQLite database using the established connection\n",
    "cursor = sqliteConnection.cursor()"
   ]
  },
  {
   "cell_type": "code",
   "execution_count": 44,
   "id": "13fd4763-6d73-45d0-8ccd-e18a0cc3b4f1",
   "metadata": {
    "tags": []
   },
   "outputs": [
    {
     "name": "stdout",
     "output_type": "stream",
     "text": [
      "Successfully Connected to SQLite\n"
     ]
    }
   ],
   "source": [
    "# Display a success message indicating a successful connection to SQLite\n",
    "print(\"Successfully Connected to SQLite\")"
   ]
  },
  {
   "cell_type": "code",
   "execution_count": 45,
   "id": "e9d3995f-0159-4bcc-bd8d-98daa70b5127",
   "metadata": {
    "tags": []
   },
   "outputs": [],
   "source": [
    "# Execute the SQL query to create a table in the SQLite database using the cursor\n",
    "cursor.execute(sqlite_create_table_query)\n",
    "\n",
    "# Commit the changes to the database to make the table creation permanent\n",
    "sqliteConnection.commit()"
   ]
  },
  {
   "cell_type": "code",
   "execution_count": 46,
   "id": "15591fd5-1b39-46db-997e-7713b8d3220a",
   "metadata": {
    "tags": []
   },
   "outputs": [],
   "source": [
    "# Read the data to be inserted\n",
    "# current_data = pd.read_csv(\"df.csv\")\n",
    "current_data = df"
   ]
  },
  {
   "cell_type": "code",
   "execution_count": 47,
   "id": "d0aafd25-1257-473c-95b3-282356117aa1",
   "metadata": {
    "tags": []
   },
   "outputs": [],
   "source": [
    "# Construct a SQL query to select all columns from the 'combine' table where the 'site' column matches a specific value\n",
    "query1 = f\"SELECT * FROM combine WHERE site = '{site_value}'\"\n",
    "# query1 = f\"SELECT * FROM combine\""
   ]
  },
  {
   "cell_type": "code",
   "execution_count": 48,
   "id": "44f8d3ee-09dd-437b-90a7-f819bbca44fc",
   "metadata": {
    "tags": []
   },
   "outputs": [],
   "source": [
    "# Execute the SQL query 'query1' in the SQLite database and store the result in a pandas DataFrame 'db_data'\n",
    "db_data = pd.read_sql_query(query1, sqliteConnection)"
   ]
  },
  {
   "cell_type": "code",
   "execution_count": 49,
   "id": "e4013b97-e6f9-4b19-8843-83cecc139128",
   "metadata": {
    "tags": []
   },
   "outputs": [],
   "source": [
    "# db_data"
   ]
  },
  {
   "cell_type": "code",
   "execution_count": 51,
   "id": "f55696c7-43f0-418a-b49e-47c52a0282c4",
   "metadata": {
    "tags": []
   },
   "outputs": [],
   "source": [
    "# Concatenate the DataFrames db_data and current_data\n",
    "df = pd.concat([db_data, current_data], ignore_index=True)"
   ]
  },
  {
   "cell_type": "code",
   "execution_count": 52,
   "id": "ef4c6882-7ae9-4408-a0a8-6353f350de59",
   "metadata": {
    "tags": []
   },
   "outputs": [],
   "source": [
    "# df"
   ]
  },
  {
   "cell_type": "code",
   "execution_count": 53,
   "id": "2152d450-cef2-4855-93f5-5d7f5214486f",
   "metadata": {
    "tags": []
   },
   "outputs": [],
   "source": [
    "# Remove duplicate rows from DataFrame 'df' based on columns 'Time' and 'site'\n",
    "# Keeping the last occurrence of each unique combination of 'Time' and 'site'\n",
    "df.drop_duplicates(subset=['Time','site'], keep='last', inplace=True)\n",
    "# df.drop_duplicates()"
   ]
  },
  {
   "cell_type": "code",
   "execution_count": 54,
   "id": "4cd84495-bced-43b2-ab8d-dacbd1f426ec",
   "metadata": {
    "tags": []
   },
   "outputs": [],
   "source": [
    "df = df.reset_index(drop=True)"
   ]
  },
  {
   "cell_type": "code",
   "execution_count": 55,
   "id": "31f33044-a94e-4946-ac2b-c1fb08b1b84d",
   "metadata": {
    "tags": []
   },
   "outputs": [],
   "source": [
    "# print(len(list(df.columns)))"
   ]
  },
  {
   "cell_type": "code",
   "execution_count": 56,
   "id": "1d5497d3-cdc6-4d2f-ab68-df62c549c4ab",
   "metadata": {
    "tags": []
   },
   "outputs": [],
   "source": [
    "df['Time'] = pd.to_datetime(df['Time'])"
   ]
  },
  {
   "cell_type": "code",
   "execution_count": 57,
   "id": "b5bfce0e-ca33-4d03-9fc0-a984fe536e5c",
   "metadata": {
    "tags": []
   },
   "outputs": [],
   "source": [
    "# Sorts the DataFrame 'df' based on the 'Time' column in ascending order\n",
    "df.sort_values(by='Time', ascending=False, inplace=True)"
   ]
  },
  {
   "cell_type": "code",
   "execution_count": 58,
   "id": "ae8f6da3-6190-4d65-8a6b-86419cf7a8a1",
   "metadata": {
    "tags": []
   },
   "outputs": [],
   "source": [
    "# Convert the \"Time\" column to datetime objects\n",
    "df[\"Time\"] = pd.to_datetime(df[\"Time\"], errors='coerce')\n",
    "\n",
    "# Filter rows where the year is 1970\n",
    "# year_1970_data = df[df[\"Time\"].dt.year == 1970]"
   ]
  },
  {
   "cell_type": "code",
   "execution_count": 59,
   "id": "473970fa-a6d8-47a0-be08-3cdde9e54847",
   "metadata": {
    "tags": []
   },
   "outputs": [
    {
     "data": {
      "text/plain": [
       "(739293, 112)"
      ]
     },
     "execution_count": 59,
     "metadata": {},
     "output_type": "execute_result"
    }
   ],
   "source": [
    "df.shape"
   ]
  },
  {
   "cell_type": "code",
   "execution_count": 60,
   "id": "5719ed2c-a365-461d-ac05-51445eac0acd",
   "metadata": {
    "tags": []
   },
   "outputs": [],
   "source": [
    "# Drop duplicates\n",
    "df = df.drop_duplicates(subset=['Time'])"
   ]
  },
  {
   "cell_type": "code",
   "execution_count": 61,
   "id": "32414738-b98c-4155-9e22-108fe5025786",
   "metadata": {
    "tags": []
   },
   "outputs": [
    {
     "data": {
      "text/plain": [
       "(739293, 112)"
      ]
     },
     "execution_count": 61,
     "metadata": {},
     "output_type": "execute_result"
    }
   ],
   "source": [
    "df.shape"
   ]
  },
  {
   "cell_type": "code",
   "execution_count": 62,
   "id": "eaf28811-59d8-4d7f-a128-d4fba15270a4",
   "metadata": {
    "tags": []
   },
   "outputs": [],
   "source": [
    "# df"
   ]
  },
  {
   "cell_type": "code",
   "execution_count": 63,
   "id": "02cd9b37-dd3d-4b32-b437-0cf8b8f62e8a",
   "metadata": {
    "tags": []
   },
   "outputs": [],
   "source": [
    "# Sort and Reset index\n",
    "df = df.sort_values(by='Time')\n",
    "df = df.reset_index(drop=\"true\")"
   ]
  },
  {
   "cell_type": "code",
   "execution_count": 64,
   "id": "0179dd91-0211-4338-a7cd-bc5905973402",
   "metadata": {
    "tags": []
   },
   "outputs": [],
   "source": [
    "# df"
   ]
  },
  {
   "cell_type": "code",
   "execution_count": 65,
   "id": "9c91d288-127a-4268-8f57-61d02ec148f0",
   "metadata": {
    "tags": []
   },
   "outputs": [],
   "source": [
    "# Delete previous table data\n",
    "query2 = f\"DELETE FROM combine WHERE site = '{site_value}'\""
   ]
  },
  {
   "cell_type": "code",
   "execution_count": 66,
   "id": "266ae14b-e05c-48e1-ae6f-d78e6bf1a12d",
   "metadata": {
    "tags": []
   },
   "outputs": [
    {
     "data": {
      "text/plain": [
       "<sqlite3.Cursor at 0x169836efe40>"
      ]
     },
     "execution_count": 66,
     "metadata": {},
     "output_type": "execute_result"
    }
   ],
   "source": [
    "# Execute the DELETE statement query\n",
    "cursor.execute(query2)"
   ]
  },
  {
   "cell_type": "code",
   "execution_count": 67,
   "id": "54f2ac52-6ee9-49cb-9d38-c76e92ec9a82",
   "metadata": {
    "tags": []
   },
   "outputs": [
    {
     "data": {
      "text/plain": [
       "739293"
      ]
     },
     "execution_count": 67,
     "metadata": {},
     "output_type": "execute_result"
    }
   ],
   "source": [
    "# Writing the DataFrame 'df' to an SQLite database table named \"combine\"\n",
    "df.to_sql(name=\"combine\", con=sqliteConnection, if_exists='append',index=False)"
   ]
  },
  {
   "cell_type": "code",
   "execution_count": 68,
   "id": "d1052b13-eb08-49ce-a6c5-d920e942faba",
   "metadata": {
    "tags": []
   },
   "outputs": [
    {
     "name": "stdout",
     "output_type": "stream",
     "text": [
      "Number of rows sent to the database: 739293\n"
     ]
    }
   ],
   "source": [
    "print(f\"Number of rows sent to the database: {df.shape[0]}\")"
   ]
  },
  {
   "cell_type": "code",
   "execution_count": 69,
   "id": "4b66c03f-d616-4dab-8202-bf8cc99f922f",
   "metadata": {
    "tags": []
   },
   "outputs": [],
   "source": [
    "# Commit the changes to the database to make the table creation permanent\n",
    "sqliteConnection.commit()"
   ]
  },
  {
   "cell_type": "code",
   "execution_count": null,
   "id": "955848a2-d7c1-4bca-8ffb-66d93d913fa2",
   "metadata": {},
   "outputs": [],
   "source": []
  }
 ],
 "metadata": {
  "kernelspec": {
   "display_name": "Python 3 (ipykernel)",
   "language": "python",
   "name": "python3"
  },
  "language_info": {
   "codemirror_mode": {
    "name": "ipython",
    "version": 3
   },
   "file_extension": ".py",
   "mimetype": "text/x-python",
   "name": "python",
   "nbconvert_exporter": "python",
   "pygments_lexer": "ipython3",
   "version": "3.10.9"
  }
 },
 "nbformat": 4,
 "nbformat_minor": 5
}
